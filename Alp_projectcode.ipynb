{
 "cells": [
  {
   "cell_type": "code",
   "execution_count": 1,
   "metadata": {},
   "outputs": [
    {
     "name": "stdout",
     "output_type": "stream",
     "text": [
      "Requirement already satisfied: nltk in c:\\users\\riyag\\anaconda3\\lib\\site-packages (3.5)\n",
      "Requirement already satisfied: tqdm in c:\\users\\riyag\\anaconda3\\lib\\site-packages (from nltk) (4.47.0)\n",
      "Requirement already satisfied: joblib in c:\\users\\riyag\\anaconda3\\lib\\site-packages (from nltk) (0.16.0)\n",
      "Requirement already satisfied: regex in c:\\users\\riyag\\anaconda3\\lib\\site-packages (from nltk) (2020.6.8)\n",
      "Requirement already satisfied: click in c:\\users\\riyag\\anaconda3\\lib\\site-packages (from nltk) (7.1.2)\n",
      "Note: you may need to restart the kernel to use updated packages.\n"
     ]
    }
   ],
   "source": [
    "pip install nltk\n"
   ]
  },
  {
   "cell_type": "code",
   "execution_count": 2,
   "metadata": {},
   "outputs": [
    {
     "name": "stdout",
     "output_type": "stream",
     "text": [
      "Requirement already satisfied: wordcloud in c:\\users\\riyag\\anaconda3\\lib\\site-packages (1.8.1)\n",
      "Requirement already satisfied: pillow in c:\\users\\riyag\\anaconda3\\lib\\site-packages (from wordcloud) (7.2.0)\n",
      "Requirement already satisfied: matplotlib in c:\\users\\riyag\\anaconda3\\lib\\site-packages (from wordcloud) (3.2.2)\n",
      "Requirement already satisfied: numpy>=1.6.1 in c:\\users\\riyag\\anaconda3\\lib\\site-packages (from wordcloud) (1.19.5)\n",
      "Requirement already satisfied: pyparsing!=2.0.4,!=2.1.2,!=2.1.6,>=2.0.1 in c:\\users\\riyag\\anaconda3\\lib\\site-packages (from matplotlib->wordcloud) (2.4.7)\n",
      "Requirement already satisfied: cycler>=0.10 in c:\\users\\riyag\\anaconda3\\lib\\site-packages (from matplotlib->wordcloud) (0.10.0)\n",
      "Requirement already satisfied: kiwisolver>=1.0.1 in c:\\users\\riyag\\anaconda3\\lib\\site-packages (from matplotlib->wordcloud) (1.2.0)\n",
      "Requirement already satisfied: python-dateutil>=2.1 in c:\\users\\riyag\\appdata\\roaming\\python\\python38\\site-packages (from matplotlib->wordcloud) (2.8.1)\n",
      "Requirement already satisfied: six in c:\\users\\riyag\\appdata\\roaming\\python\\python38\\site-packages (from cycler>=0.10->matplotlib->wordcloud) (1.15.0)\n",
      "Note: you may need to restart the kernel to use updated packages.\n"
     ]
    }
   ],
   "source": [
    "pip install wordcloud\n"
   ]
  },
  {
   "cell_type": "code",
   "execution_count": 4,
   "metadata": {},
   "outputs": [
    {
     "name": "stderr",
     "output_type": "stream",
     "text": [
      "[nltk_data] Downloading package punkt to\n",
      "[nltk_data]     C:\\Users\\riyag\\AppData\\Roaming\\nltk_data...\n",
      "[nltk_data]   Package punkt is already up-to-date!\n",
      "[nltk_data] Downloading package wordnet to\n",
      "[nltk_data]     C:\\Users\\riyag\\AppData\\Roaming\\nltk_data...\n",
      "[nltk_data]   Package wordnet is already up-to-date!\n"
     ]
    }
   ],
   "source": [
    "import re\n",
    "import nltk\n",
    "nltk.download('punkt')\n",
    "nltk.download('wordnet')\n",
    "import math\n",
    "import numpy as np\n",
    "from wordcloud import WordCloud\n",
    "import matplotlib.pyplot as plt"
   ]
  },
  {
   "cell_type": "code",
   "execution_count": 5,
   "metadata": {},
   "outputs": [],
   "source": [
    "#reading text from the books\n",
    "T1= open(\"Animal Life in Field and Garden.txt\",encoding=\"utf-8\").read()\n",
    "\n",
    "T2=open(\"DAVID VALLORY.txt\",encoding=\"utf-8\").read()\n",
    "\n",
    "T3= open(\"Greensea Island.txt\",encoding=\"utf-8\").read()\n",
    "\n",
    "L1=T1\n",
    "L2=T2\n",
    "L3=T3"
   ]
  },
  {
   "cell_type": "code",
   "execution_count": 6,
   "metadata": {},
   "outputs": [],
   "source": [
    "#remove unneccesary text\n",
    "def remove_text(text):\n",
    "    text = re.sub(r'\\*\\*\\* START OF THE PROJECT ([\\s\\S]*?)\\*\\*\\*', ' ', text)\n",
    "    text = re.sub(r'\\n\\*\\*\\* END OF THE PROJECT ([\\s\\S]*)',' ',text)\n",
    "    text = re.sub(r'\\n+CHAPTER.*\\n\\n.*\\n+','\\n\\n', text)\n",
    "    text = re.sub(r'\\n+^M{0,4}(CM|CD|D?C{0,3})(XC|XL|L?X{0,3})(IX|IV|V?I{0,3})$\\n.*\\n','\\n\\n', text)\n",
    "    return text"
   ]
  },
  {
   "cell_type": "code",
   "execution_count": 7,
   "metadata": {},
   "outputs": [],
   "source": [
    "T1=remove_text(T1)\n",
    "T2= remove_text(T2)\n",
    "T3= remove_text(T3)"
   ]
  },
  {
   "cell_type": "code",
   "execution_count": 8,
   "metadata": {},
   "outputs": [],
   "source": [
    "# convert all text to lower case and removing any link\n",
    "def to_lower(text):\n",
    "    text = text.lower()\n",
    "    re.sub(r\"http\\S+\", \"\\n\", text)\n",
    "    return text"
   ]
  },
  {
   "cell_type": "code",
   "execution_count": 9,
   "metadata": {},
   "outputs": [],
   "source": [
    "#convert short forms to full forms\n",
    "def convert(text):\n",
    "    \n",
    "    text = re.sub(r\"won\\'t\", \"will not\", text)\n",
    "    text = re.sub(r\"can\\'t\", \"can not\", text)\n",
    "    text = re.sub(r\"n\\'t\", \" not\", text)\n",
    "    text = re.sub(r\"\\'re\", \" are\", text)\n",
    "    text = re.sub(r\"\\'s\", \" is\", text)\n",
    "    text = re.sub(r\"\\'d\", \" would\", text)\n",
    "    text = re.sub(r\"\\'ll\", \" will\", text)\n",
    "    text = re.sub(r\"\\'t\", \" not\", text)\n",
    "    text = re.sub(r\"\\'ve\", \" have\", text)\n",
    "    text = re.sub(r\"\\'m\", \" am\", text)\n",
    "    return text"
   ]
  },
  {
   "cell_type": "code",
   "execution_count": 10,
   "metadata": {},
   "outputs": [],
   "source": [
    "T1 =to_lower(T1)\n",
    "T2=to_lower(T2)\n",
    "T1 = convert(T1)\n",
    "T2= convert(T2)\n",
    "T3= to_lower(T3)\n",
    "T3= convert(T3)"
   ]
  },
  {
   "cell_type": "code",
   "execution_count": 11,
   "metadata": {},
   "outputs": [],
   "source": [
    "#removing punctuation\n",
    "T1=re.sub(r'[^\\w\\s]','',T1)\n",
    "T2=re.sub(r'[^\\w\\s]','',T2)\n",
    "T3=re.sub(r'[^\\w\\s]','',T3)"
   ]
  },
  {
   "cell_type": "markdown",
   "metadata": {},
   "source": [
    "Tokenisation"
   ]
  },
  {
   "cell_type": "code",
   "execution_count": 12,
   "metadata": {},
   "outputs": [],
   "source": [
    "\n",
    "from nltk.tokenize import word_tokenize\n",
    "\n",
    "# splitting text into individual tokens(words)\n",
    "def tokenize_word(text):\n",
    "    words = word_tokenize(text)\n",
    "    return words"
   ]
  },
  {
   "cell_type": "code",
   "execution_count": 13,
   "metadata": {},
   "outputs": [],
   "source": [
    "words_T1=tokenize_word(T1)\n",
    "words_T2=tokenize_word(T2)\n",
    "words_T3=tokenize_word(T3)"
   ]
  },
  {
   "cell_type": "markdown",
   "metadata": {},
   "source": [
    "Frequncy Analysis"
   ]
  },
  {
   "cell_type": "code",
   "execution_count": 13,
   "metadata": {},
   "outputs": [
    {
     "data": {
      "image/png": "[encoded data removed]",
      "text/plain": [
       "<Figure size 640x480 with 1 Axes>"
      ]
     },
     "metadata": {},
     "output_type": "display_data"
    },
    {
     "data": {
      "image/png": "[encoded data removed]",
      "text/plain": [
       "<Figure size 640x480 with 1 Axes>"
      ]
     },
     "metadata": {},
     "output_type": "display_data"
    },
    {
     "data": {
      "text/plain": [
       "<matplotlib.axes._subplots.AxesSubplot at 0x7fdabaad0610>"
      ]
     },
     "execution_count": 13,
     "metadata": {},
     "output_type": "execute_result"
    }
   ],
   "source": [
    "# analyzing frequency of words before removing stop words\n",
    "frequency_words_T1 = nltk.FreqDist(words_T1)\n",
    "frequency_words_T1.plot(30, cumulative=False)\n",
    "frequency_words_T2 = nltk.FreqDist(words_T2)\n",
    "frequency_words_T2.plot(20, cumulative=False)"
   ]
  },
  {
   "cell_type": "markdown",
   "metadata": {},
   "source": [
    "Word Cloud"
   ]
  },
  {
   "cell_type": "code",
   "execution_count": 14,
   "metadata": {
    "tags": []
   },
   "outputs": [],
   "source": [
    "def stringConverter(s):       \n",
    "    finstr = \" \"      \n",
    "    return (finstr.join(s))\n",
    "        \n",
    "# converting LIST OF TOKENS to a string \n",
    "def tokens_to_string(words):       \n",
    "    text = stringConverter(words)\n",
    "    return text "
   ]
  },
  {
   "cell_type": "code",
   "execution_count": 15,
   "metadata": {},
   "outputs": [],
   "source": [
    "text_T1 = tokens_to_string(words_T1)\n",
    "text_T2 = tokens_to_string(words_T2)"
   ]
  },
  {
   "cell_type": "code",
   "execution_count": 16,
   "metadata": {},
   "outputs": [
    {
     "data": {
      "text/plain": [
       "<matplotlib.image.AxesImage at 0x7fdabab6dc50>"
      ]
     },
     "execution_count": 16,
     "metadata": {},
     "output_type": "execute_result"
    }
   ],
   "source": [
    "# word cloud for T1\n",
    "wc_T1 = WordCloud(background_color=\"white\", width=1000, height=1000, random_state=1,stopwords= [],collocations=False).generate(text_T1)\n",
    "plt.imshow(wc_T1)"
   ]
  },
  {
   "cell_type": "code",
   "execution_count": 17,
   "metadata": {},
   "outputs": [
    {
     "data": {
      "text/plain": [
       "<matplotlib.image.AxesImage at 0x7fdaba982a50>"
      ]
     },
     "execution_count": 17,
     "metadata": {},
     "output_type": "execute_result"
    }
   ],
   "source": [
    "#word cloud for T2\n",
    "wc_T2 = WordCloud(background_color=\"white\", width=1000, height=1000, random_state=1,stopwords= [],collocations=False).generate(text_T2)\n",
    "plt.imshow(wc_T2)"
   ]
  },
  {
   "cell_type": "code",
   "execution_count": 18,
   "metadata": {},
   "outputs": [
    {
     "name": "stderr",
     "output_type": "stream",
     "text": [
      "[nltk_data] Downloading package stopwords to /home/jovyan/nltk_data...\n",
      "[nltk_data]   Package stopwords is already up-to-date!\n"
     ]
    },
    {
     "data": {
      "text/plain": [
       "True"
      ]
     },
     "execution_count": 18,
     "metadata": {},
     "output_type": "execute_result"
    }
   ],
   "source": [
    "from nltk.corpus import stopwords\n",
    "nltk.download('stopwords')"
   ]
  },
  {
   "cell_type": "code",
   "execution_count": 19,
   "metadata": {},
   "outputs": [
    {
     "name": "stdout",
     "output_type": "stream",
     "text": [
      "['i', 'me', 'my', 'myself', 'we', 'our', 'ours', 'ourselves', 'you', \"you're\", \"you've\", \"you'll\", \"you'd\", 'your', 'yours', 'yourself', 'yourselves', 'he', 'him', 'his', 'himself', 'she', \"she's\", 'her', 'hers', 'herself', 'it', \"it's\", 'its', 'itself', 'they', 'them', 'their', 'theirs', 'themselves', 'what', 'which', 'who', 'whom', 'this', 'that', \"that'll\", 'these', 'those', 'am', 'is', 'are', 'was', 'were', 'be', 'been', 'being', 'have', 'has', 'had', 'having', 'do', 'does', 'did', 'doing', 'a', 'an', 'the', 'and', 'but', 'if', 'or', 'because', 'as', 'until', 'while', 'of', 'at', 'by', 'for', 'with', 'about', 'against', 'between', 'into', 'through', 'during', 'before', 'after', 'above', 'below', 'to', 'from', 'up', 'down', 'in', 'out', 'on', 'off', 'over', 'under', 'again', 'further', 'then', 'once', 'here', 'there', 'when', 'where', 'why', 'how', 'all', 'any', 'both', 'each', 'few', 'more', 'most', 'other', 'some', 'such', 'no', 'nor', 'not', 'only', 'own', 'same', 'so', 'than', 'too', 'very', 's', 't', 'can', 'will', 'just', 'don', \"don't\", 'should', \"should've\", 'now', 'd', 'll', 'm', 'o', 're', 've', 'y', 'ain', 'aren', \"aren't\", 'couldn', \"couldn't\", 'didn', \"didn't\", 'doesn', \"doesn't\", 'hadn', \"hadn't\", 'hasn', \"hasn't\", 'haven', \"haven't\", 'isn', \"isn't\", 'ma', 'mightn', \"mightn't\", 'mustn', \"mustn't\", 'needn', \"needn't\", 'shan', \"shan't\", 'shouldn', \"shouldn't\", 'wasn', \"wasn't\", 'weren', \"weren't\", 'won', \"won't\", 'wouldn', \"wouldn't\"]\n"
     ]
    }
   ],
   "source": [
    "print(stopwords.words('english'))"
   ]
  },
  {
   "cell_type": "code",
   "execution_count": 20,
   "metadata": {},
   "outputs": [],
   "source": [
    "# remove stopwords printed above\n",
    "def remove_stopwords(words):\n",
    "    words = [w for w in words if w not in stopwords.words(\"english\")]\n",
    "    return words"
   ]
  },
  {
   "cell_type": "code",
   "execution_count": 21,
   "metadata": {},
   "outputs": [],
   "source": [
    "nsw_words_T1 = remove_stopwords(words_T1)\n",
    "nsw_words_T2 =remove_stopwords(words_T2)"
   ]
  },
  {
   "cell_type": "markdown",
   "metadata": {},
   "source": [
    "Word Cloud After removing Stopwords"
   ]
  },
  {
   "cell_type": "code",
   "execution_count": 22,
   "metadata": {},
   "outputs": [],
   "source": [
    "nsw_text_T1 = tokens_to_string(nsw_words_T1)\n",
    "nsw_text_T2 = tokens_to_string(nsw_words_T2)"
   ]
  },
  {
   "cell_type": "code",
   "execution_count": 23,
   "metadata": {},
   "outputs": [
    {
     "data": {
      "text/plain": [
       "<matplotlib.image.AxesImage at 0x7fdaba980f10>"
      ]
     },
     "execution_count": 23,
     "metadata": {},
     "output_type": "execute_result"
    }
   ],
   "source": [
    "# word cloud for T1 after removing stopwords\n",
    "wc_nsw_T1 = WordCloud(background_color=\"white\", width=400, height=400, random_state=1,stopwords= [],collocations=False).generate(nsw_text_T1)\n",
    "plt.imshow(wc_nsw_T1)"
   ]
  },
  {
   "cell_type": "code",
   "execution_count": 24,
   "metadata": {},
   "outputs": [
    {
     "data": {
      "text/plain": [
       "<matplotlib.image.AxesImage at 0x7fdac3a56910>"
      ]
     },
     "execution_count": 24,
     "metadata": {},
     "output_type": "execute_result"
    }
   ],
   "source": [
    "# word cloud for T2 after removing stopwords\n",
    "wc_nsw_T2 = WordCloud(background_color=\"white\", width=400, height=400, random_state=1,stopwords= [],collocations=False).generate(nsw_text_T2)\n",
    "plt.imshow(wc_nsw_T2)"
   ]
  },
  {
   "cell_type": "markdown",
   "metadata": {},
   "source": [
    "Frequency analysis after removing stopwords"
   ]
  },
  {
   "cell_type": "code",
   "execution_count": 25,
   "metadata": {},
   "outputs": [
    {
     "data": {
      "image/png": "[encoded data removed]",
      "text/plain": [
       "<Figure size 640x480 with 1 Axes>"
      ]
     },
     "metadata": {},
     "output_type": "display_data"
    },
    {
     "data": {
      "image/png": "[encoded data removed]",
      "text/plain": [
       "<Figure size 640x480 with 1 Axes>"
      ]
     },
     "metadata": {},
     "output_type": "display_data"
    },
    {
     "data": {
      "text/plain": [
       "<matplotlib.axes._subplots.AxesSubplot at 0x7fdaba99b1d0>"
      ]
     },
     "execution_count": 25,
     "metadata": {},
     "output_type": "execute_result"
    }
   ],
   "source": [
    "# analyzing frequency for T1 and T2 respectively\n",
    "frequency_nsw_T1 = nltk.FreqDist(nsw_words_T1)\n",
    "frequency_nsw_T1.plot(30, cumulative=False)\n",
    "\n",
    "frequency_nsw_T2 = nltk.FreqDist(nsw_words_T2)\n",
    "frequency_nsw_T2.plot(20, cumulative=False)"
   ]
  },
  {
   "cell_type": "markdown",
   "metadata": {},
   "source": [
    "Word Length to frequency"
   ]
  },
  {
   "cell_type": "code",
   "execution_count": 26,
   "metadata": {},
   "outputs": [],
   "source": [
    "def wordlength_to_frequency(words):\n",
    "    frequency_of_words = []\n",
    "    length_of_words=[]\n",
    "    frequency_of_words.clear()\n",
    "    length_of_words.clear()\n",
    "    # finding the largest word in list.\n",
    "    res = max(words, key = len)\n",
    "    i=0\n",
    "    frequency=0\n",
    "    # calculating frequency of differenct length of words, appending them in respective positions.\n",
    "    while(i<=len(res)):\n",
    "        for word in words:\n",
    "            if(len(word)==i):\n",
    "                frequency= frequency+1\n",
    "        frequency_of_words.append(frequency)\n",
    "        length_of_words.append(i)\n",
    "        frequency=0\n",
    "        i=i+1\n",
    "\n",
    "    # plotting graph of frequency_of_words to length_of_words.\n",
    "    y = np.array(frequency_of_words)\n",
    "    x = np.array(length_of_words)\n",
    "    plt.plot(x, y)\n",
    "    fin_list = range(math.floor(min(x)), math.ceil(max(x))+1)\n",
    "    plt.xticks(fin_list)\n",
    "    plt.xlabel(\"Length of word\")\n",
    "    plt.ylabel(\"Frequency of words\")\n",
    "    plt.title(\"Length of word to Frequency of words\")\n",
    "    plt.show()"
   ]
  },
  {
   "cell_type": "code",
   "execution_count": 27,
   "metadata": {},
   "outputs": [
    {
     "data": {
      "image/png": "[encoded data removed]",
      "text/plain": [
       "<Figure size 640x480 with 1 Axes>"
      ]
     },
     "metadata": {},
     "output_type": "display_data"
    }
   ],
   "source": [
    "wordlength_to_frequency(nsw_words_T1)"
   ]
  },
  {
   "cell_type": "code",
   "execution_count": 28,
   "metadata": {},
   "outputs": [
    {
     "data": {
      "image/png": "[encoded data removed]",
      "text/plain": [
       "<Figure size 640x480 with 1 Axes>"
      ]
     },
     "metadata": {},
     "output_type": "display_data"
    }
   ],
   "source": [
    "wordlength_to_frequency(nsw_words_T2)"
   ]
  },
  {
   "cell_type": "markdown",
   "metadata": {},
   "source": [
    "POS tagging\n"
   ]
  },
  {
   "cell_type": "code",
   "execution_count": 29,
   "metadata": {
    "scrolled": true
   },
   "outputs": [
    {
     "name": "stderr",
     "output_type": "stream",
     "text": [
      "[nltk_data] Downloading package averaged_perceptron_tagger to\n",
      "[nltk_data]     /home/jovyan/nltk_data...\n",
      "[nltk_data]   Package averaged_perceptron_tagger is already up-to-\n",
      "[nltk_data]       date!\n",
      "[nltk_data] Downloading package tagsets to /home/jovyan/nltk_data...\n",
      "[nltk_data]   Package tagsets is already up-to-date!\n"
     ]
    },
    {
     "data": {
      "text/plain": [
       "True"
      ]
     },
     "execution_count": 29,
     "metadata": {},
     "output_type": "execute_result"
    }
   ],
   "source": [
    "nltk.download('averaged_perceptron_tagger')\n",
    "nltk.download('tagsets')"
   ]
  },
  {
   "cell_type": "code",
   "execution_count": 30,
   "metadata": {},
   "outputs": [],
   "source": [
    "# POS tagging the words\n",
    "res1=nltk.pos_tag(nsw_words_T1)\n",
    "res2=nltk.pos_tag(nsw_words_T2)\n",
    "from collections import Counter\n",
    "def get_count(tags):\n",
    "  counts_tags = Counter(tag for word,tag in tags)\n",
    "  return counts_tags\n",
    "def FrequencyPlot(dist):\n",
    "  plt.rcParams[\"figure.figsize\"] = [15, 3.50]\n",
    "  plt.bar(dist.keys(),dist.values())\n",
    "  plt.show()"
   ]
  },
  {
   "cell_type": "code",
   "execution_count": 31,
   "metadata": {},
   "outputs": [
    {
     "name": "stdout",
     "output_type": "stream",
     "text": [
      "Number of tags used in T1= 29\n"
     ]
    },
    {
     "data": {
      "image/png": "[encoded data removed]",
      "text/plain": [
       "<Figure size 1500x350 with 1 Axes>"
      ]
     },
     "metadata": {},
     "output_type": "display_data"
    }
   ],
   "source": [
    "dist1=get_count(res1)\n",
    "print(\"Number of tags used in T1=\",len(dist1))\n",
    "dist1\n",
    "FrequencyPlot(dist1)"
   ]
  },
  {
   "cell_type": "code",
   "execution_count": 32,
   "metadata": {},
   "outputs": [
    {
     "name": "stdout",
     "output_type": "stream",
     "text": [
      "Number of tags used in T2= 33\n"
     ]
    },
    {
     "data": {
      "image/png": "[encoded data removed]",
      "text/plain": [
       "<Figure size 1500x350 with 1 Axes>"
      ]
     },
     "metadata": {},
     "output_type": "display_data"
    }
   ],
   "source": [
    "dist2=get_count(res2)\n",
    "print(\"Number of tags used in T2=\",len(dist2))\n",
    "dist2\n",
    "FrequencyPlot(dist2)"
   ]
  },
  {
   "cell_type": "markdown",
   "metadata": {},
   "source": [
    "FINDING NOUNS AND VERBS IN BOTH NOVELS AND THEIR RESPECTIVE WORDNET CATEGORIES"
   ]
  },
  {
   "cell_type": "code",
   "execution_count": 14,
   "metadata": {},
   "outputs": [
    {
     "name": "stderr",
     "output_type": "stream",
     "text": [
      "[nltk_data] Downloading package averaged_perceptron_tagger to\n",
      "[nltk_data]     C:\\Users\\riyag\\AppData\\Roaming\\nltk_data...\n",
      "[nltk_data]   Package averaged_perceptron_tagger is already up-to-\n",
      "[nltk_data]       date!\n"
     ]
    }
   ],
   "source": [
    "nltk.download('averaged_perceptron_tagger')\n",
    "\n",
    "def noun(tokens):\n",
    "  is_noun = lambda pos: pos[:1] == 'N'\n",
    "  nouns = [word for (word, pos) in nltk.pos_tag(tokens) if is_noun(pos)] \n",
    "  return nouns\n",
    "def verb(tokens):\n",
    "  is_verb = lambda pos: pos[:1] == 'V'\n",
    "  verbs = [word for (word, pos) in nltk.pos_tag(tokens) if is_verb(pos)] \n",
    "  return verbs\n",
    "\n",
    "noun1=noun(words_T1)\n",
    "noun2=noun(words_T2)\n",
    "verb1=verb(words_T1)\n",
    "verb2=verb(words_T2)"
   ]
  },
  {
   "cell_type": "code",
   "execution_count": 15,
   "metadata": {},
   "outputs": [
    {
     "name": "stdout",
     "output_type": "stream",
     "text": [
      "Number of nouns in book 1 and book 2 respectively are 21350 and 17612\n",
      "Number of verbs in book 1 and book 2 respectively are 15400 and 17129\n"
     ]
    }
   ],
   "source": [
    "print(\"Number of nouns in book 1 and book 2 respectively are \"+ str(len(noun1))+\" and \"+ str(len(noun2)))\n",
    "print(\"Number of verbs in book 1 and book 2 respectively are \"+ str(len(verb1))+\" and \"+ str(len(verb2)))"
   ]
  },
  {
   "cell_type": "code",
   "execution_count": 16,
   "metadata": {},
   "outputs": [],
   "source": [
    "#Finding Respective Wordnet Categories\n",
    "\n",
    "from nltk.corpus import wordnet as wn\n",
    "def synset(words):\n",
    "  categories=[]\n",
    "  for word in words:\n",
    "    cat=[]\n",
    "    for synset in wn.synsets(word):\n",
    "      if(('noun' in synset.lexname()) & ('Tops' not in synset.lexname()) ):\n",
    "        cat.append(synset.lexname())\n",
    "      if('verb' in synset.lexname()):\n",
    "        cat.append(synset.lexname())\n",
    "    categories.append(cat)\n",
    "  return categories"
   ]
  },
  {
   "cell_type": "code",
   "execution_count": 17,
   "metadata": {},
   "outputs": [],
   "source": [
    "#GIVES TOTAL NOUN LEXNAMES AND TOTAL VERB LEXNAMES FOR FREQUENCY DISTRIBUTIONS\n",
    "def all_synsets(noun,verb):\n",
    "  nouns=[]\n",
    "  verbs=[]\n",
    "  for word in noun:\n",
    "    for synset in wn.synsets(word): \n",
    "      if(('noun' in synset.lexname()) & ('Tops' not in synset.lexname()) ):\n",
    "        nouns.append(synset.lexname())\n",
    "      if('verb' in synset.lexname()):\n",
    "        verbs.append(synset.lexname())\n",
    "  for word in verb:\n",
    "    for synset in wn.synsets(word): \n",
    "      if(('noun' in synset.lexname()) & ('Tops' not in synset.lexname()) ):\n",
    "        nouns.append(synset.lexname())\n",
    "      if('verb' in synset.lexname()):\n",
    "        verbs.append(synset.lexname())\n",
    "      \n",
    "  return nouns,verbs"
   ]
  },
  {
   "cell_type": "code",
   "execution_count": 18,
   "metadata": {},
   "outputs": [],
   "source": [
    "noun_superset1,verb_superset1=all_synsets(noun1,verb1)\n",
    "noun_superset2,verb_superset2=all_synsets(noun2,verb2)"
   ]
  },
  {
   "cell_type": "code",
   "execution_count": 19,
   "metadata": {},
   "outputs": [
    {
     "name": "stdout",
     "output_type": "stream",
     "text": [
      "birds\n"
     ]
    }
   ],
   "source": [
    "print(noun1[124])"
   ]
  },
  {
   "cell_type": "code",
   "execution_count": 20,
   "metadata": {},
   "outputs": [],
   "source": [
    "noun_syn1=synset(noun1)\n",
    "noun_syn2=synset(noun2)\n",
    "verb_syn1=synset(verb1)\n",
    "verb_syn2=synset(verb2)"
   ]
  },
  {
   "cell_type": "code",
   "execution_count": 21,
   "metadata": {},
   "outputs": [
    {
     "name": "stdout",
     "output_type": "stream",
     "text": [
      "['noun.animal', 'noun.food', 'noun.person', 'noun.communication', 'noun.artifact', 'verb.competition']\n"
     ]
    }
   ],
   "source": [
    "print(noun_syn1[124][:])"
   ]
  },
  {
   "cell_type": "code",
   "execution_count": 22,
   "metadata": {},
   "outputs": [
    {
     "name": "stdout",
     "output_type": "stream",
     "text": [
      "patience\n"
     ]
    }
   ],
   "source": [
    "print(noun1[224])"
   ]
  },
  {
   "cell_type": "code",
   "execution_count": 23,
   "metadata": {},
   "outputs": [
    {
     "data": {
      "text/plain": [
       "([<matplotlib.axis.XTick at 0x125759227f0>,\n",
       "  <matplotlib.axis.XTick at 0x125759227c0>,\n",
       "  <matplotlib.axis.XTick at 0x125758f0e80>,\n",
       "  <matplotlib.axis.XTick at 0x12575985910>,\n",
       "  <matplotlib.axis.XTick at 0x12575985c70>,\n",
       "  <matplotlib.axis.XTick at 0x125759921c0>,\n",
       "  <matplotlib.axis.XTick at 0x125759926d0>,\n",
       "  <matplotlib.axis.XTick at 0x12575992be0>,\n",
       "  <matplotlib.axis.XTick at 0x12575996130>,\n",
       "  <matplotlib.axis.XTick at 0x12575996640>,\n",
       "  <matplotlib.axis.XTick at 0x12575996b50>,\n",
       "  <matplotlib.axis.XTick at 0x1257599c0a0>,\n",
       "  <matplotlib.axis.XTick at 0x1257599c5b0>,\n",
       "  <matplotlib.axis.XTick at 0x12575996820>,\n",
       "  <matplotlib.axis.XTick at 0x125759928b0>,\n",
       "  <matplotlib.axis.XTick at 0x12575985a60>,\n",
       "  <matplotlib.axis.XTick at 0x1257599c130>,\n",
       "  <matplotlib.axis.XTick at 0x1257599cd30>,\n",
       "  <matplotlib.axis.XTick at 0x125759a3280>,\n",
       "  <matplotlib.axis.XTick at 0x125759a3790>,\n",
       "  <matplotlib.axis.XTick at 0x125759a3ca0>,\n",
       "  <matplotlib.axis.XTick at 0x125759a71f0>,\n",
       "  <matplotlib.axis.XTick at 0x125759a7700>,\n",
       "  <matplotlib.axis.XTick at 0x125759a33d0>,\n",
       "  <matplotlib.axis.XTick at 0x12575985a00>],\n",
       " [Text(0, 0, '0'),\n",
       "  Text(0, 0, '1'),\n",
       "  Text(0, 0, '2'),\n",
       "  Text(0, 0, '3'),\n",
       "  Text(0, 0, '4'),\n",
       "  Text(0, 0, '5'),\n",
       "  Text(0, 0, '6'),\n",
       "  Text(0, 0, '7'),\n",
       "  Text(0, 0, '8'),\n",
       "  Text(0, 0, '9'),\n",
       "  Text(0, 0, '10'),\n",
       "  Text(0, 0, '11'),\n",
       "  Text(0, 0, '12'),\n",
       "  Text(0, 0, '13'),\n",
       "  Text(0, 0, '14'),\n",
       "  Text(0, 0, '15'),\n",
       "  Text(0, 0, '16'),\n",
       "  Text(0, 0, '17'),\n",
       "  Text(0, 0, '18'),\n",
       "  Text(0, 0, '19'),\n",
       "  Text(0, 0, '20'),\n",
       "  Text(0, 0, '21'),\n",
       "  Text(0, 0, '22'),\n",
       "  Text(0, 0, '23'),\n",
       "  Text(0, 0, '24')])"
      ]
     },
     "execution_count": 23,
     "metadata": {},
     "output_type": "execute_result"
    },
    {
     "data": {
      "image/png": "[encoded data removed]",
      "text/plain": [
       "<Figure size 720x360 with 1 Axes>"
      ]
     },
     "metadata": {
      "needs_background": "light"
     },
     "output_type": "display_data"
    },
    {
     "data": {
      "image/png": "[encoded data removed]",
      "text/plain": [
       "<Figure size 720x360 with 1 Axes>"
      ]
     },
     "metadata": {
      "needs_background": "light"
     },
     "output_type": "display_data"
    }
   ],
   "source": [
    "import numpy as np\n",
    "labels, counts = np.unique(noun_superset1,return_counts=True)\n",
    "import matplotlib.pyplot as plt \n",
    "ticks = range(len(counts))\n",
    "plt.figure(figsize=(10,5))\n",
    "plt.bar(ticks,counts, align='center')\n",
    "plt.xticks(ticks, range(len(labels)))\n",
    "labels, counts = np.unique(noun_superset2,return_counts=True)\n",
    "ticks = range(len(counts))\n",
    "plt.figure(figsize=(10,5))\n",
    "plt.bar(ticks,counts, align='center')\n",
    "plt.xticks(ticks, range(len(labels)))"
   ]
  },
  {
   "cell_type": "code",
   "execution_count": 24,
   "metadata": {},
   "outputs": [
    {
     "name": "stdout",
     "output_type": "stream",
     "text": [
      "['noun.act' 'noun.animal' 'noun.artifact' 'noun.attribute' 'noun.body'\n",
      " 'noun.cognition' 'noun.communication' 'noun.event' 'noun.feeling'\n",
      " 'noun.food' 'noun.group' 'noun.location' 'noun.motive' 'noun.object'\n",
      " 'noun.person' 'noun.phenomenon' 'noun.plant' 'noun.possession'\n",
      " 'noun.process' 'noun.quantity' 'noun.relation' 'noun.shape' 'noun.state'\n",
      " 'noun.substance' 'noun.time']\n"
     ]
    }
   ],
   "source": [
    "print(labels)"
   ]
  },
  {
   "cell_type": "code",
   "execution_count": 25,
   "metadata": {},
   "outputs": [
    {
     "data": {
      "text/plain": [
       "([<matplotlib.axis.XTick at 0x12575ab45b0>,\n",
       "  <matplotlib.axis.XTick at 0x12575ab4580>,\n",
       "  <matplotlib.axis.XTick at 0x12575aa0850>,\n",
       "  <matplotlib.axis.XTick at 0x12575af9a60>,\n",
       "  <matplotlib.axis.XTick at 0x12575af9f70>,\n",
       "  <matplotlib.axis.XTick at 0x12575af96a0>,\n",
       "  <matplotlib.axis.XTick at 0x12575b05670>,\n",
       "  <matplotlib.axis.XTick at 0x12575b05b80>,\n",
       "  <matplotlib.axis.XTick at 0x12575b0a0d0>,\n",
       "  <matplotlib.axis.XTick at 0x12575b0a610>,\n",
       "  <matplotlib.axis.XTick at 0x12575b0ab20>,\n",
       "  <matplotlib.axis.XTick at 0x12575b10070>,\n",
       "  <matplotlib.axis.XTick at 0x12575b10580>,\n",
       "  <matplotlib.axis.XTick at 0x12575b10a90>,\n",
       "  <matplotlib.axis.XTick at 0x12575b0a880>],\n",
       " [Text(0, 0, '0'),\n",
       "  Text(0, 0, '1'),\n",
       "  Text(0, 0, '2'),\n",
       "  Text(0, 0, '3'),\n",
       "  Text(0, 0, '4'),\n",
       "  Text(0, 0, '5'),\n",
       "  Text(0, 0, '6'),\n",
       "  Text(0, 0, '7'),\n",
       "  Text(0, 0, '8'),\n",
       "  Text(0, 0, '9'),\n",
       "  Text(0, 0, '10'),\n",
       "  Text(0, 0, '11'),\n",
       "  Text(0, 0, '12'),\n",
       "  Text(0, 0, '13'),\n",
       "  Text(0, 0, '14')])"
      ]
     },
     "execution_count": 25,
     "metadata": {},
     "output_type": "execute_result"
    },
    {
     "data": {
      "image/png": "[encoded data removed]",
      "text/plain": [
       "<Figure size 720x360 with 1 Axes>"
      ]
     },
     "metadata": {
      "needs_background": "light"
     },
     "output_type": "display_data"
    },
    {
     "data": {
      "image/png": "[encoded data removed]",
      "text/plain": [
       "<Figure size 720x360 with 1 Axes>"
      ]
     },
     "metadata": {
      "needs_background": "light"
     },
     "output_type": "display_data"
    }
   ],
   "source": [
    "labels, counts = np.unique(verb_superset1,return_counts=True)\n",
    "ticks = range(len(counts))\n",
    "plt.figure(figsize=(10,5))\n",
    "plt.bar(ticks,counts, align='center')\n",
    "plt.xticks(ticks, range(len(labels)))\n",
    "labels, counts = np.unique(verb_superset2,return_counts=True)\n",
    "ticks = range(len(counts))\n",
    "plt.figure(figsize=(10,5))\n",
    "plt.bar(ticks,counts, align='center')\n",
    "plt.xticks(ticks, range(len(labels)))"
   ]
  },
  {
   "cell_type": "code",
   "execution_count": 26,
   "metadata": {},
   "outputs": [
    {
     "name": "stdout",
     "output_type": "stream",
     "text": [
      "['verb.body' 'verb.change' 'verb.cognition' 'verb.communication'\n",
      " 'verb.competition' 'verb.consumption' 'verb.contact' 'verb.creation'\n",
      " 'verb.emotion' 'verb.motion' 'verb.perception' 'verb.possession'\n",
      " 'verb.social' 'verb.stative' 'verb.weather']\n"
     ]
    }
   ],
   "source": [
    "print(labels)\n"
   ]
  },
  {
   "cell_type": "code",
   "execution_count": 26,
   "metadata": {},
   "outputs": [
    {
     "name": "stdout",
     "output_type": "stream",
     "text": [
      "Collecting spacy\n",
      "  Downloading spacy-3.2.1-cp38-cp38-win_amd64.whl (12.2 MB)\n",
      "Collecting typer<0.5.0,>=0.3.0\n",
      "  Downloading typer-0.4.0-py3-none-any.whl (27 kB)\n",
      "Requirement already satisfied: requests<3.0.0,>=2.13.0 in c:\\users\\riyag\\anaconda3\\lib\\site-packages (from spacy) (2.24.0)\n",
      "Collecting preshed<3.1.0,>=3.0.2\n",
      "  Downloading preshed-3.0.6-cp38-cp38-win_amd64.whl (113 kB)\n",
      "Collecting cymem<2.1.0,>=2.0.2\n",
      "  Downloading cymem-2.0.6-cp38-cp38-win_amd64.whl (36 kB)\n",
      "Collecting catalogue<2.1.0,>=2.0.6\n",
      "  Downloading catalogue-2.0.6-py3-none-any.whl (17 kB)\n",
      "Collecting wasabi<1.1.0,>=0.8.1\n",
      "  Downloading wasabi-0.9.0-py3-none-any.whl (25 kB)\n",
      "Collecting thinc<8.1.0,>=8.0.12\n",
      "  Downloading thinc-8.0.13-cp38-cp38-win_amd64.whl (1.0 MB)\n",
      "Requirement already satisfied: setuptools in c:\\users\\riyag\\anaconda3\\lib\\site-packages (from spacy) (49.2.0.post20200714)\n",
      "Requirement already satisfied: numpy>=1.15.0 in c:\\users\\riyag\\anaconda3\\lib\\site-packages (from spacy) (1.19.5)\n",
      "Collecting spacy-loggers<2.0.0,>=1.0.0\n",
      "  Downloading spacy_loggers-1.0.1-py3-none-any.whl (7.0 kB)\n",
      "Collecting spacy-legacy<3.1.0,>=3.0.8\n",
      "  Downloading spacy_legacy-3.0.8-py2.py3-none-any.whl (14 kB)\n",
      "Collecting pydantic!=1.8,!=1.8.1,<1.9.0,>=1.7.4\n",
      "  Downloading pydantic-1.8.2-cp38-cp38-win_amd64.whl (2.0 MB)\n",
      "Requirement already satisfied: tqdm<5.0.0,>=4.38.0 in c:\\users\\riyag\\anaconda3\\lib\\site-packages (from spacy) (4.47.0)\n",
      "Collecting blis<0.8.0,>=0.4.0\n",
      "  Downloading blis-0.7.5-cp38-cp38-win_amd64.whl (6.6 MB)\n",
      "Collecting pathy>=0.3.5\n",
      "  Downloading pathy-0.6.1-py3-none-any.whl (42 kB)\n",
      "Requirement already satisfied: packaging>=20.0 in c:\\users\\riyag\\anaconda3\\lib\\site-packages (from spacy) (20.4)\n",
      "Collecting srsly<3.0.0,>=2.4.1\n",
      "  Downloading srsly-2.4.2-cp38-cp38-win_amd64.whl (452 kB)\n",
      "Collecting langcodes<4.0.0,>=3.2.0\n",
      "  Downloading langcodes-3.3.0-py3-none-any.whl (181 kB)\n",
      "Requirement already satisfied: jinja2 in c:\\users\\riyag\\anaconda3\\lib\\site-packages (from spacy) (2.11.2)\n",
      "Collecting murmurhash<1.1.0,>=0.28.0\n",
      "  Downloading murmurhash-1.0.6-cp38-cp38-win_amd64.whl (21 kB)\n",
      "Requirement already satisfied: click<9.0.0,>=7.1.1 in c:\\users\\riyag\\anaconda3\\lib\\site-packages (from typer<0.5.0,>=0.3.0->spacy) (7.1.2)\n",
      "Requirement already satisfied: certifi>=2017.4.17 in c:\\users\\riyag\\anaconda3\\lib\\site-packages (from requests<3.0.0,>=2.13.0->spacy) (2020.6.20)\n",
      "Requirement already satisfied: urllib3!=1.25.0,!=1.25.1,<1.26,>=1.21.1 in c:\\users\\riyag\\anaconda3\\lib\\site-packages (from requests<3.0.0,>=2.13.0->spacy) (1.25.9)\n",
      "Requirement already satisfied: chardet<4,>=3.0.2 in c:\\users\\riyag\\anaconda3\\lib\\site-packages (from requests<3.0.0,>=2.13.0->spacy) (3.0.4)\n",
      "Requirement already satisfied: idna<3,>=2.5 in c:\\users\\riyag\\anaconda3\\lib\\site-packages (from requests<3.0.0,>=2.13.0->spacy) (2.10)\n",
      "Collecting typing-extensions>=3.7.4.3\n",
      "  Downloading typing_extensions-4.0.1-py3-none-any.whl (22 kB)\n",
      "Collecting smart-open<6.0.0,>=5.0.0\n",
      "  Downloading smart_open-5.2.1-py3-none-any.whl (58 kB)\n",
      "Requirement already satisfied: pyparsing>=2.0.2 in c:\\users\\riyag\\anaconda3\\lib\\site-packages (from packaging>=20.0->spacy) (2.4.7)\n",
      "Requirement already satisfied: six in c:\\users\\riyag\\appdata\\roaming\\python\\python38\\site-packages (from packaging>=20.0->spacy) (1.15.0)\n",
      "Requirement already satisfied: MarkupSafe>=0.23 in c:\\users\\riyag\\anaconda3\\lib\\site-packages (from jinja2->spacy) (1.1.1)\n",
      "Installing collected packages: typer, murmurhash, cymem, preshed, catalogue, wasabi, blis, srsly, typing-extensions, pydantic, thinc, spacy-loggers, spacy-legacy, smart-open, pathy, langcodes, spacy\n",
      "  Attempting uninstall: typing-extensions\n",
      "    Found existing installation: typing-extensions 3.7.4.2\n",
      "    Uninstalling typing-extensions-3.7.4.2:\n",
      "      Successfully uninstalled typing-extensions-3.7.4.2\n",
      "Successfully installed blis-0.7.5 catalogue-2.0.6 cymem-2.0.6 langcodes-3.3.0 murmurhash-1.0.6 pathy-0.6.1 preshed-3.0.6 pydantic-1.8.2 smart-open-5.2.1 spacy-3.2.1 spacy-legacy-3.0.8 spacy-loggers-1.0.1 srsly-2.4.2 thinc-8.0.13 typer-0.4.0 typing-extensions-4.0.1 wasabi-0.9.0\n",
      "Note: you may need to restart the kernel to use updated packages.\n"
     ]
    },
    {
     "name": "stderr",
     "output_type": "stream",
     "text": [
      "ERROR: tensorflow-gpu 2.5.0 requires grpcio~=1.34.0, which is not installed.\n",
      "ERROR: tensorflow-gpu 2.5.0 requires tensorflow-estimator<2.6.0,>=2.5.0rc0, which is not installed.\n",
      "ERROR: tensorflow-gpu 2.5.0 has requirement h5py~=3.1.0, but you'll have h5py 2.10.0 which is incompatible.\n",
      "ERROR: tensorflow-gpu 2.5.0 has requirement typing-extensions~=3.7.4, but you'll have typing-extensions 4.0.1 which is incompatible.\n"
     ]
    }
   ],
   "source": [
    "pip install spacy"
   ]
  },
  {
   "cell_type": "code",
   "execution_count": 29,
   "metadata": {
    "scrolled": true
   },
   "outputs": [
    {
     "name": "stdout",
     "output_type": "stream",
     "text": [
      "there are total 1277 entities in book 1 and 1456 in book 2\n"
     ]
    }
   ],
   "source": [
    "import spacy\n",
    "from spacy import displacy\n",
    "from collections import Counter\n",
    "import en_core_web_lg\n",
    "\n",
    "nlp = en_core_web_lg.load()\n",
    "d1 = nlp(T1)\n",
    "d2 = nlp(T2)\n",
    "print(\"there are total \"+str(len(d1.ents))+\" entities in book 1 and \"+str(len(d2.ents))+\" in book 2\")"
   ]
  },
  {
   "cell_type": "code",
   "execution_count": 30,
   "metadata": {},
   "outputs": [],
   "source": [
    "def entity_recognition(text):\n",
    "  doc=nlp(text)\n",
    "  person=[]\n",
    "  org=[]\n",
    "  location=[]\n",
    "  for X in doc:  \n",
    "    if (X.ent_type_=='PERSON') and X.text not in person:\n",
    "      person.append(X.text)\n",
    "    if (X.ent_type_=='ORG')and X.text not in org:\n",
    "      org.append(X.text)\n",
    "    if ((X.ent_type_=='LOC') or (X.ent_type_=='GPE')) and X.text not in location:\n",
    "      location.append(X.text)\n",
    "  return person,org,location"
   ]
  },
  {
   "cell_type": "code",
   "execution_count": 31,
   "metadata": {},
   "outputs": [
    {
     "name": "stdout",
     "output_type": "stream",
     "text": [
      "number of person entities in book 1 and book 2 respectively are 71 and 150\n",
      "number of organization entities in book 1 and book 2 respectively are 52 and 77\n",
      "number of location entities in book 1 and book 2 respectively are 27 and 37\n"
     ]
    }
   ],
   "source": [
    "person1,org1,location1=entity_recognition(T1)\n",
    "person2,org2,location2=entity_recognition(T2)\n",
    "print(\"number of person entities in book 1 and book 2 respectively are \"+str(len(person1))+\" and \"+str(len(person2)))\n",
    "print(\"number of organization entities in book 1 and book 2 respectively are \"+str(len(org1))+\" and \"+str(len(org2)))\n",
    "print(\"number of location entities in book 1 and book 2 respectively are \"+str(len(location1))+\" and \"+str(len(location2)))"
   ]
  },
  {
   "cell_type": "code",
   "execution_count": 32,
   "metadata": {},
   "outputs": [],
   "source": [
    "def freq(str_list): \n",
    "    unique_words = set(str_list)\n",
    "    counts = {}\n",
    "    for words in unique_words : \n",
    "        counts[words] = str_list.count(words)\n",
    "    return counts"
   ]
  },
  {
   "cell_type": "code",
   "execution_count": 33,
   "metadata": {},
   "outputs": [
    {
     "name": "stdout",
     "output_type": "stream",
     "text": [
      "[('xxi', 1), ('xvii', 1), ('xii', 1), ('willow', 1), ('wheat', 1), ('vii', 1), ('victor', 1), ('uncle', 1), ('truee', 1), ('trig', 1), ('tom', 1), ('tokooa', 1), ('thumb', 1), ('this', 1), ('the', 1), ('teoooo', 1), ('teo', 1), ('swan', 1), ('simons', 1), ('robin', 1), ('pree', 1), ('plee', 1), ('pauls', 1), ('paul', 1), ('oneeyed', 1), ('nightmoths', 1), ('martins', 1), ('martin', 1), ('louis', 1), ('lii', 1), ('known', 1), ('jules', 1), ('john', 1), ('jeroen', 1), ('jay', 1), ('jacques', 1), ('ivory', 1), ('iii', 1), ('hunt', 1), ('hugotranslator', 1), ('hellingman', 1), ('geometermoth', 1), ('flourens', 1), ('florence', 1), ('fabre', 1), ('emile', 1), ('eagle', 1), ('cruciferæ', 1), ('crow', 1), ('craa', 1), ('calledwhich', 1), ('cabbagebutterfly', 1), ('bush', 1), ('buffon', 1), ('bob', 1), ('benjamin', 1), ('aymay', 1), ('appletree', 1), ('aidmay', 1), ('a', 1), ('160', 1), ('                              ', 1), ('                             ', 1), ('           ', 1), ('      ', 1), ('     ', 1), ('\\n        ', 1), ('\\n    ', 1), ('\\n\\n              ', 1), ('\\n\\n', 1), ('\\n', 1)]\n"
     ]
    }
   ],
   "source": [
    "X = freq(person1)\n",
    "print(sorted(X.items(), key = lambda kv:(kv[1], kv[0]),reverse=True)) "
   ]
  },
  {
   "cell_type": "code",
   "execution_count": 34,
   "metadata": {},
   "outputs": [
    {
     "name": "stdout",
     "output_type": "stream",
     "text": [
      "[('united', 1), ('the', 1), ('states', 1), ('sahara', 1), ('rocky', 1), ('pyrenees', 1), ('provence', 1), ('paris', 1), ('ocean', 1), ('norway', 1), ('mediterranean', 1), ('locust', 1), ('lapland', 1), ('india', 1), ('heights', 1), ('grove', 1), ('germany', 1), ('france', 1), ('europe', 1), ('dormice', 1), ('central', 1), ('beech', 1), ('arles', 1), ('arctic', 1), ('america', 1), ('alsace', 1), ('africa', 1)]\n"
     ]
    }
   ],
   "source": [
    "X = freq(location1)\n",
    "print(sorted(X.items(), key = lambda kv:(kv[1], kv[0]),reverse=True))"
   ]
  },
  {
   "cell_type": "code",
   "execution_count": 43,
   "metadata": {},
   "outputs": [
    {
     "name": "stdout",
     "output_type": "stream",
     "text": [
      "<class 'list'>\n",
      "<class 'list'>\n"
     ]
    },
    {
     "ename": "TypeError",
     "evalue": "string indices must be integers",
     "output_type": "error",
     "traceback": [
      "\u001b[1;31m---------------------------------------------------------------------------\u001b[0m",
      "\u001b[1;31mTypeError\u001b[0m                                 Traceback (most recent call last)",
      "\u001b[1;32m<ipython-input-43-1fa9b99552eb>\u001b[0m in \u001b[0;36m<module>\u001b[1;34m\u001b[0m\n\u001b[0;32m     95\u001b[0m \u001b[0mprint\u001b[0m\u001b[1;33m(\u001b[0m\u001b[0mtype\u001b[0m\u001b[1;33m(\u001b[0m\u001b[0mhand_label_1_1\u001b[0m\u001b[1;33m)\u001b[0m\u001b[1;33m)\u001b[0m\u001b[1;33m\u001b[0m\u001b[1;33m\u001b[0m\u001b[0m\n\u001b[0;32m     96\u001b[0m \u001b[0mprint\u001b[0m\u001b[1;33m(\u001b[0m\u001b[0mtype\u001b[0m\u001b[1;33m(\u001b[0m\u001b[0mlabelB1T1\u001b[0m\u001b[1;33m)\u001b[0m\u001b[1;33m)\u001b[0m\u001b[1;33m\u001b[0m\u001b[1;33m\u001b[0m\u001b[0m\n\u001b[1;32m---> 97\u001b[1;33m \u001b[0mmatrics1\u001b[0m \u001b[1;33m=\u001b[0m \u001b[0mMatrices\u001b[0m\u001b[1;33m(\u001b[0m\u001b[0mhand_label_1_1\u001b[0m\u001b[1;33m,\u001b[0m\u001b[0mlabelB1T1\u001b[0m\u001b[1;33m)\u001b[0m\u001b[1;33m\u001b[0m\u001b[1;33m\u001b[0m\u001b[0m\n\u001b[0m\u001b[0;32m     98\u001b[0m \u001b[0mmatrics1\u001b[0m\u001b[1;33m.\u001b[0m\u001b[0mcal_confusion_matrices\u001b[0m\u001b[1;33m(\u001b[0m\u001b[1;33m)\u001b[0m\u001b[1;33m\u001b[0m\u001b[1;33m\u001b[0m\u001b[0m\n\u001b[0;32m     99\u001b[0m \u001b[0mmatrics1\u001b[0m\u001b[1;33m.\u001b[0m\u001b[0mprint_confusion_matrices\u001b[0m\u001b[1;33m(\u001b[0m\u001b[1;33m)\u001b[0m\u001b[1;33m\u001b[0m\u001b[1;33m\u001b[0m\u001b[0m\n",
      "\u001b[1;32m<ipython-input-43-1fa9b99552eb>\u001b[0m in \u001b[0;36m__init__\u001b[1;34m(self, sents_true_labels, sents_pred_labels)\u001b[0m\n\u001b[0;32m     28\u001b[0m         \u001b[0mself\u001b[0m\u001b[1;33m.\u001b[0m\u001b[0msents_true_labels\u001b[0m \u001b[1;33m=\u001b[0m \u001b[0msents_true_labels\u001b[0m\u001b[1;33m\u001b[0m\u001b[1;33m\u001b[0m\u001b[0m\n\u001b[0;32m     29\u001b[0m         \u001b[0mself\u001b[0m\u001b[1;33m.\u001b[0m\u001b[0msents_pred_labels\u001b[0m \u001b[1;33m=\u001b[0m \u001b[0msents_pred_labels\u001b[0m\u001b[1;33m\u001b[0m\u001b[1;33m\u001b[0m\u001b[0m\n\u001b[1;32m---> 30\u001b[1;33m         \u001b[0mself\u001b[0m\u001b[1;33m.\u001b[0m\u001b[0mtypes\u001b[0m \u001b[1;33m=\u001b[0m \u001b[0mset\u001b[0m\u001b[1;33m(\u001b[0m\u001b[0mentity\u001b[0m\u001b[1;33m[\u001b[0m\u001b[1;34m'type'\u001b[0m\u001b[1;33m]\u001b[0m \u001b[1;32mfor\u001b[0m \u001b[0msent\u001b[0m \u001b[1;32min\u001b[0m \u001b[0msents_true_labels\u001b[0m \u001b[1;32mfor\u001b[0m \u001b[0mentity\u001b[0m \u001b[1;32min\u001b[0m \u001b[0msent\u001b[0m\u001b[1;33m)\u001b[0m\u001b[1;33m\u001b[0m\u001b[1;33m\u001b[0m\u001b[0m\n\u001b[0m\u001b[0;32m     31\u001b[0m         \u001b[0mself\u001b[0m\u001b[1;33m.\u001b[0m\u001b[0mconfusion_matrices\u001b[0m \u001b[1;33m=\u001b[0m \u001b[1;33m{\u001b[0m\u001b[0mtype\u001b[0m\u001b[1;33m:\u001b[0m \u001b[1;33m{\u001b[0m\u001b[1;34m'TP'\u001b[0m\u001b[1;33m:\u001b[0m\u001b[1;36m0\u001b[0m\u001b[1;33m,\u001b[0m \u001b[1;34m'TN'\u001b[0m\u001b[1;33m:\u001b[0m\u001b[1;36m0\u001b[0m\u001b[1;33m,\u001b[0m \u001b[1;34m'FP'\u001b[0m\u001b[1;33m:\u001b[0m\u001b[1;36m0\u001b[0m\u001b[1;33m,\u001b[0m \u001b[1;34m'FN'\u001b[0m\u001b[1;33m:\u001b[0m\u001b[1;36m0\u001b[0m\u001b[1;33m}\u001b[0m \u001b[1;32mfor\u001b[0m \u001b[0mtype\u001b[0m \u001b[1;32min\u001b[0m \u001b[0mself\u001b[0m\u001b[1;33m.\u001b[0m\u001b[0mtypes\u001b[0m\u001b[1;33m}\u001b[0m\u001b[1;33m\u001b[0m\u001b[1;33m\u001b[0m\u001b[0m\n\u001b[0;32m     32\u001b[0m         \u001b[0mself\u001b[0m\u001b[1;33m.\u001b[0m\u001b[0mscores\u001b[0m \u001b[1;33m=\u001b[0m \u001b[1;33m{\u001b[0m\u001b[0mtype\u001b[0m\u001b[1;33m:\u001b[0m \u001b[1;33m{\u001b[0m\u001b[1;34m'p'\u001b[0m\u001b[1;33m:\u001b[0m\u001b[1;36m0\u001b[0m\u001b[1;33m,\u001b[0m \u001b[1;34m'r'\u001b[0m\u001b[1;33m:\u001b[0m\u001b[1;36m0\u001b[0m\u001b[1;33m,\u001b[0m \u001b[1;34m'f1'\u001b[0m\u001b[1;33m:\u001b[0m\u001b[1;36m0\u001b[0m\u001b[1;33m}\u001b[0m \u001b[1;32mfor\u001b[0m \u001b[0mtype\u001b[0m \u001b[1;32min\u001b[0m \u001b[0mself\u001b[0m\u001b[1;33m.\u001b[0m\u001b[0mtypes\u001b[0m\u001b[1;33m}\u001b[0m\u001b[1;33m\u001b[0m\u001b[1;33m\u001b[0m\u001b[0m\n",
      "\u001b[1;32m<ipython-input-43-1fa9b99552eb>\u001b[0m in \u001b[0;36m<genexpr>\u001b[1;34m(.0)\u001b[0m\n\u001b[0;32m     28\u001b[0m         \u001b[0mself\u001b[0m\u001b[1;33m.\u001b[0m\u001b[0msents_true_labels\u001b[0m \u001b[1;33m=\u001b[0m \u001b[0msents_true_labels\u001b[0m\u001b[1;33m\u001b[0m\u001b[1;33m\u001b[0m\u001b[0m\n\u001b[0;32m     29\u001b[0m         \u001b[0mself\u001b[0m\u001b[1;33m.\u001b[0m\u001b[0msents_pred_labels\u001b[0m \u001b[1;33m=\u001b[0m \u001b[0msents_pred_labels\u001b[0m\u001b[1;33m\u001b[0m\u001b[1;33m\u001b[0m\u001b[0m\n\u001b[1;32m---> 30\u001b[1;33m         \u001b[0mself\u001b[0m\u001b[1;33m.\u001b[0m\u001b[0mtypes\u001b[0m \u001b[1;33m=\u001b[0m \u001b[0mset\u001b[0m\u001b[1;33m(\u001b[0m\u001b[0mentity\u001b[0m\u001b[1;33m[\u001b[0m\u001b[1;34m'type'\u001b[0m\u001b[1;33m]\u001b[0m \u001b[1;32mfor\u001b[0m \u001b[0msent\u001b[0m \u001b[1;32min\u001b[0m \u001b[0msents_true_labels\u001b[0m \u001b[1;32mfor\u001b[0m \u001b[0mentity\u001b[0m \u001b[1;32min\u001b[0m \u001b[0msent\u001b[0m\u001b[1;33m)\u001b[0m\u001b[1;33m\u001b[0m\u001b[1;33m\u001b[0m\u001b[0m\n\u001b[0m\u001b[0;32m     31\u001b[0m         \u001b[0mself\u001b[0m\u001b[1;33m.\u001b[0m\u001b[0mconfusion_matrices\u001b[0m \u001b[1;33m=\u001b[0m \u001b[1;33m{\u001b[0m\u001b[0mtype\u001b[0m\u001b[1;33m:\u001b[0m \u001b[1;33m{\u001b[0m\u001b[1;34m'TP'\u001b[0m\u001b[1;33m:\u001b[0m\u001b[1;36m0\u001b[0m\u001b[1;33m,\u001b[0m \u001b[1;34m'TN'\u001b[0m\u001b[1;33m:\u001b[0m\u001b[1;36m0\u001b[0m\u001b[1;33m,\u001b[0m \u001b[1;34m'FP'\u001b[0m\u001b[1;33m:\u001b[0m\u001b[1;36m0\u001b[0m\u001b[1;33m,\u001b[0m \u001b[1;34m'FN'\u001b[0m\u001b[1;33m:\u001b[0m\u001b[1;36m0\u001b[0m\u001b[1;33m}\u001b[0m \u001b[1;32mfor\u001b[0m \u001b[0mtype\u001b[0m \u001b[1;32min\u001b[0m \u001b[0mself\u001b[0m\u001b[1;33m.\u001b[0m\u001b[0mtypes\u001b[0m\u001b[1;33m}\u001b[0m\u001b[1;33m\u001b[0m\u001b[1;33m\u001b[0m\u001b[0m\n\u001b[0;32m     32\u001b[0m         \u001b[0mself\u001b[0m\u001b[1;33m.\u001b[0m\u001b[0mscores\u001b[0m \u001b[1;33m=\u001b[0m \u001b[1;33m{\u001b[0m\u001b[0mtype\u001b[0m\u001b[1;33m:\u001b[0m \u001b[1;33m{\u001b[0m\u001b[1;34m'p'\u001b[0m\u001b[1;33m:\u001b[0m\u001b[1;36m0\u001b[0m\u001b[1;33m,\u001b[0m \u001b[1;34m'r'\u001b[0m\u001b[1;33m:\u001b[0m\u001b[1;36m0\u001b[0m\u001b[1;33m,\u001b[0m \u001b[1;34m'f1'\u001b[0m\u001b[1;33m:\u001b[0m\u001b[1;36m0\u001b[0m\u001b[1;33m}\u001b[0m \u001b[1;32mfor\u001b[0m \u001b[0mtype\u001b[0m \u001b[1;32min\u001b[0m \u001b[0mself\u001b[0m\u001b[1;33m.\u001b[0m\u001b[0mtypes\u001b[0m\u001b[1;33m}\u001b[0m\u001b[1;33m\u001b[0m\u001b[1;33m\u001b[0m\u001b[0m\n",
      "\u001b[1;31mTypeError\u001b[0m: string indices must be integers"
     ]
    }
   ],
   "source": [
    "#Performance Measures\n",
    "\n",
    "#book1\n",
    "B1_text1='Emile already had his finger in his mouth, passing it from one tooth to another, to count them'\n",
    "B1_text2='We call ugly those that differ from these accepted models, and if very unlike we call them hideous.'\n",
    "\n",
    "#book2\n",
    "B2_text1='Vallory’s smile was still good-natured'\n",
    "B2_text2='I have been on Government work in Florida--rivers and harbors'\n",
    "\n",
    "hand_label_1_1=['PER','O','O','O','O','O','O','O','O','O','O','O','O','O','O','O','O','O']\n",
    "hand_label_1_2=['O','O','O','O','O','O','O','O','O','O','O','O','O','O','O','O','O','O']\n",
    "hand_label_2_1=['PER','O','O','O','O','O']\n",
    "hand_label_2_2=['O','O','O','O','ORG','O','O','LOC','O','O']\n",
    "\n",
    "#labels generated \n",
    "\n",
    "labelB1T1=([(word.text) for word in nlp(B1_text1).ents])\n",
    "labelB1T2=([(word.text) for word in nlp(B1_text2).ents])\n",
    "\n",
    "labelB2T1=([(word.text) for word in nlp(B2_text1).ents])\n",
    "labelB2T2=([(word.text) for word in nlp(B2_text2).ents])\n",
    "\n",
    "from typing import List, Dict, Sequence\n",
    "\n",
    "class Matrices:\n",
    "    def __init__(self, sents_true_labels: Sequence[Sequence[Dict]], sents_pred_labels: Sequence[Sequence[Dict]]):\n",
    "        self.sents_true_labels = sents_true_labels\n",
    "        self.sents_pred_labels = sents_pred_labels\n",
    "        self.types = set(entity['type'] for sent in sents_true_labels for entity in sent)\n",
    "        self.confusion_matrices = {type: {'TP':0, 'TN':0, 'FP':0, 'FN':0} for type in self.types}\n",
    "        self.scores = {type: {'p':0, 'r':0, 'f1':0} for type in self.types}\n",
    "        \n",
    "    def cal_confusion_matrices(self) -> Dict[str, Dict]:\n",
    "        \"\"\"Calculate confusion matrices for all sentences.\"\"\"\n",
    "        for true_labels, pred_labels in zip(self.sents_true_labels, sents_pred_labels):\n",
    "            for true_label in true_labels:\n",
    "                entity_type = true_label['type']\n",
    "                prediction_hit_count = 0\n",
    "                for pred_label in pred_labels:\n",
    "                    if pred_label['type'] != entity_type:\n",
    "                        continue\n",
    "                    if pred_label['start_idx'] == true_label['start_idx'] and pred_label['end_idx'] == true_label['end_idx'] and pred_label['text'] == true_label['text']: #TP\n",
    "                        self.confusion_matrices[entity_type]['TP'] += 1\n",
    "                        prediction_hit_count += 1\n",
    "                    elif ((pred_label['start_idx'] == true_label['start_idx']) or (pred_label['end_idx'])) and pred_label['text'] != true_label['text']:\n",
    "                        self.confusion_matrices[entity_type]['FP'] += 1\n",
    "                        self.confusion_matrices[entity_type]['FN'] += 1\n",
    "                        prediction_hit_count += 1\n",
    "                if prediction_hit_count != 1: #FN, model cannot make a prediction for true_label\n",
    "                    self.confusion_matrices[entity_type]['FN'] += 1\n",
    "                prediction_hit_count = 0 # reset to default\n",
    "\n",
    "    def cal_scores(self) -> Dict[str, Dict]:\n",
    "        \"\"\"Calculate precision, recall, f1.\"\"\"\n",
    "        confusion_matrices = self.confusion_matrices\n",
    "        scores = {type: {'p':0, 'r':0, 'f1':0} for type in self.types}\n",
    "\n",
    "        for entity_type, confusion_matrix in confusion_matrices.items():\n",
    "            if confusion_matrix['TP'] == 0 and confusion_matrix['FP'] == 0:\n",
    "                scores[entity_type]['p'] = 0\n",
    "            else:\n",
    "                scores[entity_type]['p'] = confusion_matrix['TP'] / (confusion_matrix['TP'] + confusion_matrix['FP'])\n",
    "\n",
    "            if confusion_matrix['TP'] == 0 and confusion_matrix['FN'] == 0:\n",
    "                scores[entity_type]['r'] = 0\n",
    "            else:\n",
    "                scores[entity_type]['r'] = confusion_matrix['TP'] / (confusion_matrix['TP'] + confusion_matrix['FN'])\n",
    "\n",
    "            if scores[entity_type]['p'] ==0 and scores[entity_type]['r'] ==0:\n",
    "                scores[entity_type]['f1'] = 0\n",
    "            else:\n",
    "                scores[entity_type]['f1'] = 2*scores[entity_type]['p']*scores[entity_type]['r'] / (scores[entity_type]['p'] + scores[entity_type]['r'])\n",
    "            self.scores = scores\n",
    "    def print_confusion_matrices(self):\n",
    "        for entity_type, matrix in self.confusion_matrices.items():\n",
    "            print(f\"{entity_type}: {matrix}\")\n",
    "\n",
    "    def print_scores(self):\n",
    "        for entity_type, score in self.scores.items():\n",
    "            print(f\"{entity_type}: f1 {score['f1']:.4f}, precision {score['p']:.4f}, recall {score['r']:.4f}\")\n",
    "\n",
    "for x in range(len(labelB1T1)):\n",
    "    if (labelB1T1[x]=='') or (labelB1T1[x] not in ['ORG', 'LOC', 'GPE', 'PER']):\n",
    "        labelB1T1[x] = 'O'\n",
    "for x in range(len(labelB1T2)):\n",
    "    if (labelB1T2[x]=='') or (labelB1T2[x] not in ['ORG', 'LOC', 'GPE', 'PER']):\n",
    "        labelB1T2[x] = 'O'\n",
    "for x in range(len(labelB2T1)):\n",
    "    if (labelB2T1[x]=='') or (labelB2T1[x] not in ['ORG', 'LOC', 'GPE', 'PER']):\n",
    "        labelB2T1[x] = 'O'\n",
    "for x in range(len(labelB2T2)):\n",
    "    if (labelB2T2[x]=='') or (labelB2T2[x] not in ['ORG', 'LOC', 'GPE', 'PER']):\n",
    "        labelB2T2[x] = 'O'\n",
    "print(type(hand_label_1_1))\n",
    "print(type(labelB1T1))\n",
    "matrics1 = Matrices(hand_label_1_1,labelB1T1)\n",
    "matrics1.cal_confusion_matrices()\n",
    "matrics1.print_confusion_matrices()\n",
    "matrics1.cal_scores()\n",
    "matrics1.print_scores() "
   ]
  },
  {
   "cell_type": "code",
   "execution_count": null,
   "metadata": {},
   "outputs": [],
   "source": [
    "import spacy\n",
    "from spacy.gold import GoldParse\n",
    "from spacy.scorer import Scorer\n",
    "\n",
    "def evaluate(ner_model, examples):\n",
    "    scorer = Scorer()\n",
    "    for input_, annot in examples:\n",
    "        doc_gold_text = ner_model.make_doc(input_)\n",
    "        gold = GoldParse(doc_gold_text, entities=annot)\n",
    "        pred_value = ner_model(input_)\n",
    "        scorer.score(pred_value, gold)\n",
    "    return scorer.scores\n",
    "\n",
    "# example run\n",
    "\n",
    "#book1\n",
    "B1_text1='Emile already had his finger in his mouth, passing it from one tooth to another, to count them'\n",
    "B1_text2='We call ugly those that differ from these accepted models, and if very unlike we call them hideous.'\n",
    "\n",
    "#book2\n",
    "B2_text1='Vallory’s smile was still good-natured'\n",
    "B2_text2='I have been on Government work in Florida--rivers and harbors'\n",
    "\n",
    "hand_label_1_1=['PER','O','O','O','O','O','O','O','O','O','O','O','O','O','O','O','O','O']\n",
    "hand_label_1_2=['O','O','O','O','O','O','O','O','O','O','O','O','O','O','O','O','O','O']\n",
    "hand_label_2_1=['PER','O','O','O','O','O']\n",
    "hand_label_2_2=['O','O','O','O','ORG','O','O','LOC','O','O']\n",
    "examples = [\n",
    "    ('Emile already had his finger in his mouth, passing it from one tooth to another, to count them',\n",
    "     [(0,4,'PERSON')]),\n",
    "    ('We call ugly those that differ from these accepted models, and if very unlike we call them hideous.'),\n",
    "    ('Vallory’s smile was still good-natured',\n",
    "     [(0,6, 'PERSON')]),\n",
    "    ('I have been on Government work in Florida--rivers and harbors',\n",
    "     [(15,24, 'ORGANISATION'),(34,48,'LOCATION')])\n",
    "]\n",
    "\n",
    "ner_model = spacy.load(ner_model_path) # for spaCy's pretrained use 'en_core_web_sm'\n",
    "results = evaluate(ner_model, examples)"
   ]
  },
  {
   "cell_type": "code",
   "execution_count": 89,
   "metadata": {},
   "outputs": [],
   "source": [
    "data = [T1,T2]"
   ]
  },
  {
   "cell_type": "code",
   "execution_count": 95,
   "metadata": {},
   "outputs": [],
   "source": [
    "import pandas as pd\n",
    "\n",
    "def create_dataframe(matrix, tokens):\n",
    "\n",
    "    doc_names = [f't{i+1}' for i, _ in enumerate(matrix)]\n",
    "    df = pd.DataFrame(data=matrix, index=doc_names, columns=tokens)\n",
    "    return(df)"
   ]
  },
  {
   "cell_type": "code",
   "execution_count": 96,
   "metadata": {},
   "outputs": [
    {
     "data": {
      "text/html": [
       "<div>\n",
       "<style scoped>\n",
       "    .dataframe tbody tr th:only-of-type {\n",
       "        vertical-align: middle;\n",
       "    }\n",
       "\n",
       "    .dataframe tbody tr th {\n",
       "        vertical-align: top;\n",
       "    }\n",
       "\n",
       "    .dataframe thead th {\n",
       "        text-align: right;\n",
       "    }\n",
       "</style>\n",
       "<table border=\"1\" class=\"dataframe\">\n",
       "  <thead>\n",
       "    <tr style=\"text-align: right;\">\n",
       "      <th></th>\n",
       "      <th>10</th>\n",
       "      <th>106</th>\n",
       "      <th>114</th>\n",
       "      <th>117</th>\n",
       "      <th>122</th>\n",
       "      <th>129</th>\n",
       "      <th>13</th>\n",
       "      <th>137</th>\n",
       "      <th>144</th>\n",
       "      <th>154</th>\n",
       "      <th>...</th>\n",
       "      <th>yousomebody</th>\n",
       "      <th>youth</th>\n",
       "      <th>youthful</th>\n",
       "      <th>zeal</th>\n",
       "      <th>zeezeezee</th>\n",
       "      <th>zest</th>\n",
       "      <th>zigzag</th>\n",
       "      <th>zigzags</th>\n",
       "      <th>zipzap</th>\n",
       "      <th>écorcheur</th>\n",
       "    </tr>\n",
       "  </thead>\n",
       "  <tbody>\n",
       "    <tr>\n",
       "      <th>t1</th>\n",
       "      <td>0.000286</td>\n",
       "      <td>0.000143</td>\n",
       "      <td>0.000143</td>\n",
       "      <td>0.000000</td>\n",
       "      <td>0.000143</td>\n",
       "      <td>0.000143</td>\n",
       "      <td>0.000143</td>\n",
       "      <td>0.000143</td>\n",
       "      <td>0.000143</td>\n",
       "      <td>0.000143</td>\n",
       "      <td>...</td>\n",
       "      <td>0.000000</td>\n",
       "      <td>0.000000</td>\n",
       "      <td>0.000000</td>\n",
       "      <td>0.000573</td>\n",
       "      <td>0.00043</td>\n",
       "      <td>0.000143</td>\n",
       "      <td>0.00043</td>\n",
       "      <td>0.000143</td>\n",
       "      <td>0.00043</td>\n",
       "      <td>0.000143</td>\n",
       "    </tr>\n",
       "    <tr>\n",
       "      <th>t2</th>\n",
       "      <td>0.000000</td>\n",
       "      <td>0.000000</td>\n",
       "      <td>0.000000</td>\n",
       "      <td>0.000475</td>\n",
       "      <td>0.000000</td>\n",
       "      <td>0.000000</td>\n",
       "      <td>0.000000</td>\n",
       "      <td>0.000000</td>\n",
       "      <td>0.000000</td>\n",
       "      <td>0.000000</td>\n",
       "      <td>...</td>\n",
       "      <td>0.000158</td>\n",
       "      <td>0.000475</td>\n",
       "      <td>0.000158</td>\n",
       "      <td>0.000000</td>\n",
       "      <td>0.00000</td>\n",
       "      <td>0.000000</td>\n",
       "      <td>0.00000</td>\n",
       "      <td>0.000000</td>\n",
       "      <td>0.00000</td>\n",
       "      <td>0.000000</td>\n",
       "    </tr>\n",
       "  </tbody>\n",
       "</table>\n",
       "<p>2 rows × 12611 columns</p>\n",
       "</div>"
      ],
      "text/plain": [
       "          10       106       114       117       122       129        13  \\\n",
       "t1  0.000286  0.000143  0.000143  0.000000  0.000143  0.000143  0.000143   \n",
       "t2  0.000000  0.000000  0.000000  0.000475  0.000000  0.000000  0.000000   \n",
       "\n",
       "         137       144       154  ...  yousomebody     youth  youthful  \\\n",
       "t1  0.000143  0.000143  0.000143  ...     0.000000  0.000000  0.000000   \n",
       "t2  0.000000  0.000000  0.000000  ...     0.000158  0.000475  0.000158   \n",
       "\n",
       "        zeal  zeezeezee      zest   zigzag   zigzags   zipzap  écorcheur  \n",
       "t1  0.000573    0.00043  0.000143  0.00043  0.000143  0.00043   0.000143  \n",
       "t2  0.000000    0.00000  0.000000  0.00000  0.000000  0.00000   0.000000  \n",
       "\n",
       "[2 rows x 12611 columns]"
      ]
     },
     "execution_count": 96,
     "metadata": {},
     "output_type": "execute_result"
    }
   ],
   "source": [
    "from sklearn.feature_extraction.text import TfidfVectorizer\n",
    "\n",
    "Tfidf_vect = TfidfVectorizer()\n",
    "vector_matrix = Tfidf_vect.fit_transform(data)\n",
    "\n",
    "tokens = Tfidf_vect.get_feature_names()\n",
    "create_dataframe(vector_matrix.toarray(),tokens)"
   ]
  },
  {
   "cell_type": "code",
   "execution_count": 97,
   "metadata": {},
   "outputs": [
    {
     "name": "stderr",
     "output_type": "stream",
     "text": [
      "/srv/conda/envs/notebook/lib/python3.7/site-packages/sklearn/metrics/pairwise.py:56: DeprecationWarning: `np.float` is a deprecated alias for the builtin `float`. To silence this warning, use `float` by itself. Doing this will not modify any behavior and is safe. If you specifically wanted the numpy scalar type, use `np.float64` here.\n",
      "Deprecated in NumPy 1.20; for more details and guidance: https://numpy.org/devdocs/release/1.20.0-notes.html#deprecations\n",
      "  dtype = np.float\n"
     ]
    },
    {
     "data": {
      "text/html": [
       "<div>\n",
       "<style scoped>\n",
       "    .dataframe tbody tr th:only-of-type {\n",
       "        vertical-align: middle;\n",
       "    }\n",
       "\n",
       "    .dataframe tbody tr th {\n",
       "        vertical-align: top;\n",
       "    }\n",
       "\n",
       "    .dataframe thead th {\n",
       "        text-align: right;\n",
       "    }\n",
       "</style>\n",
       "<table border=\"1\" class=\"dataframe\">\n",
       "  <thead>\n",
       "    <tr style=\"text-align: right;\">\n",
       "      <th></th>\n",
       "      <th>T1</th>\n",
       "      <th>T2</th>\n",
       "    </tr>\n",
       "  </thead>\n",
       "  <tbody>\n",
       "    <tr>\n",
       "      <th>t1</th>\n",
       "      <td>1.00000</td>\n",
       "      <td>0.89479</td>\n",
       "    </tr>\n",
       "    <tr>\n",
       "      <th>t2</th>\n",
       "      <td>0.89479</td>\n",
       "      <td>1.00000</td>\n",
       "    </tr>\n",
       "  </tbody>\n",
       "</table>\n",
       "</div>"
      ],
      "text/plain": [
       "         T1       T2\n",
       "t1  1.00000  0.89479\n",
       "t2  0.89479  1.00000"
      ]
     },
     "execution_count": 97,
     "metadata": {},
     "output_type": "execute_result"
    }
   ],
   "source": [
    "from sklearn.metrics.pairwise import cosine_similarity\n",
    "cosine_similarity_matrix = cosine_similarity(vector_matrix)\n",
    "create_dataframe(cosine_similarity_matrix,['T1','T2'])"
   ]
  },
  {
   "cell_type": "code",
   "execution_count": 98,
   "metadata": {},
   "outputs": [],
   "source": [
    "data = [T1,T3]"
   ]
  },
  {
   "cell_type": "code",
   "execution_count": 99,
   "metadata": {},
   "outputs": [
    {
     "data": {
      "text/html": [
       "<div>\n",
       "<style scoped>\n",
       "    .dataframe tbody tr th:only-of-type {\n",
       "        vertical-align: middle;\n",
       "    }\n",
       "\n",
       "    .dataframe tbody tr th {\n",
       "        vertical-align: top;\n",
       "    }\n",
       "\n",
       "    .dataframe thead th {\n",
       "        text-align: right;\n",
       "    }\n",
       "</style>\n",
       "<table border=\"1\" class=\"dataframe\">\n",
       "  <thead>\n",
       "    <tr style=\"text-align: right;\">\n",
       "      <th></th>\n",
       "      <th>10</th>\n",
       "      <th>106</th>\n",
       "      <th>114</th>\n",
       "      <th>117</th>\n",
       "      <th>122</th>\n",
       "      <th>129</th>\n",
       "      <th>13</th>\n",
       "      <th>137</th>\n",
       "      <th>144</th>\n",
       "      <th>154</th>\n",
       "      <th>...</th>\n",
       "      <th>yousomebody</th>\n",
       "      <th>youth</th>\n",
       "      <th>youthful</th>\n",
       "      <th>zeal</th>\n",
       "      <th>zeezeezee</th>\n",
       "      <th>zest</th>\n",
       "      <th>zigzag</th>\n",
       "      <th>zigzags</th>\n",
       "      <th>zipzap</th>\n",
       "      <th>écorcheur</th>\n",
       "    </tr>\n",
       "  </thead>\n",
       "  <tbody>\n",
       "    <tr>\n",
       "      <th>t1</th>\n",
       "      <td>0.000286</td>\n",
       "      <td>0.000143</td>\n",
       "      <td>0.000143</td>\n",
       "      <td>0.000000</td>\n",
       "      <td>0.000143</td>\n",
       "      <td>0.000143</td>\n",
       "      <td>0.000143</td>\n",
       "      <td>0.000143</td>\n",
       "      <td>0.000143</td>\n",
       "      <td>0.000143</td>\n",
       "      <td>...</td>\n",
       "      <td>0.000000</td>\n",
       "      <td>0.000000</td>\n",
       "      <td>0.000000</td>\n",
       "      <td>0.000573</td>\n",
       "      <td>0.00043</td>\n",
       "      <td>0.000143</td>\n",
       "      <td>0.00043</td>\n",
       "      <td>0.000143</td>\n",
       "      <td>0.00043</td>\n",
       "      <td>0.000143</td>\n",
       "    </tr>\n",
       "    <tr>\n",
       "      <th>t2</th>\n",
       "      <td>0.000000</td>\n",
       "      <td>0.000000</td>\n",
       "      <td>0.000000</td>\n",
       "      <td>0.000475</td>\n",
       "      <td>0.000000</td>\n",
       "      <td>0.000000</td>\n",
       "      <td>0.000000</td>\n",
       "      <td>0.000000</td>\n",
       "      <td>0.000000</td>\n",
       "      <td>0.000000</td>\n",
       "      <td>...</td>\n",
       "      <td>0.000158</td>\n",
       "      <td>0.000475</td>\n",
       "      <td>0.000158</td>\n",
       "      <td>0.000000</td>\n",
       "      <td>0.00000</td>\n",
       "      <td>0.000000</td>\n",
       "      <td>0.00000</td>\n",
       "      <td>0.000000</td>\n",
       "      <td>0.00000</td>\n",
       "      <td>0.000000</td>\n",
       "    </tr>\n",
       "  </tbody>\n",
       "</table>\n",
       "<p>2 rows × 12611 columns</p>\n",
       "</div>"
      ],
      "text/plain": [
       "          10       106       114       117       122       129        13  \\\n",
       "t1  0.000286  0.000143  0.000143  0.000000  0.000143  0.000143  0.000143   \n",
       "t2  0.000000  0.000000  0.000000  0.000475  0.000000  0.000000  0.000000   \n",
       "\n",
       "         137       144       154  ...  yousomebody     youth  youthful  \\\n",
       "t1  0.000143  0.000143  0.000143  ...     0.000000  0.000000  0.000000   \n",
       "t2  0.000000  0.000000  0.000000  ...     0.000158  0.000475  0.000158   \n",
       "\n",
       "        zeal  zeezeezee      zest   zigzag   zigzags   zipzap  écorcheur  \n",
       "t1  0.000573    0.00043  0.000143  0.00043  0.000143  0.00043   0.000143  \n",
       "t2  0.000000    0.00000  0.000000  0.00000  0.000000  0.00000   0.000000  \n",
       "\n",
       "[2 rows x 12611 columns]"
      ]
     },
     "execution_count": 99,
     "metadata": {},
     "output_type": "execute_result"
    }
   ],
   "source": [
    "from sklearn.feature_extraction.text import TfidfVectorizer\n",
    "\n",
    "Tfidf_vect = TfidfVectorizer()\n",
    "vector_matrix = Tfidf_vect.fit_transform(data)\n",
    "\n",
    "tokens = Tfidf_vect.get_feature_names()\n",
    "create_dataframe(vector_matrix.toarray(),tokens)"
   ]
  },
  {
   "cell_type": "code",
   "execution_count": 100,
   "metadata": {},
   "outputs": [
    {
     "name": "stderr",
     "output_type": "stream",
     "text": [
      "/srv/conda/envs/notebook/lib/python3.7/site-packages/sklearn/metrics/pairwise.py:56: DeprecationWarning: `np.float` is a deprecated alias for the builtin `float`. To silence this warning, use `float` by itself. Doing this will not modify any behavior and is safe. If you specifically wanted the numpy scalar type, use `np.float64` here.\n",
      "Deprecated in NumPy 1.20; for more details and guidance: https://numpy.org/devdocs/release/1.20.0-notes.html#deprecations\n",
      "  dtype = np.float\n"
     ]
    },
    {
     "data": {
      "text/html": [
       "<div>\n",
       "<style scoped>\n",
       "    .dataframe tbody tr th:only-of-type {\n",
       "        vertical-align: middle;\n",
       "    }\n",
       "\n",
       "    .dataframe tbody tr th {\n",
       "        vertical-align: top;\n",
       "    }\n",
       "\n",
       "    .dataframe thead th {\n",
       "        text-align: right;\n",
       "    }\n",
       "</style>\n",
       "<table border=\"1\" class=\"dataframe\">\n",
       "  <thead>\n",
       "    <tr style=\"text-align: right;\">\n",
       "      <th></th>\n",
       "      <th>T1</th>\n",
       "      <th>T3</th>\n",
       "    </tr>\n",
       "  </thead>\n",
       "  <tbody>\n",
       "    <tr>\n",
       "      <th>t1</th>\n",
       "      <td>1.00000</td>\n",
       "      <td>0.89479</td>\n",
       "    </tr>\n",
       "    <tr>\n",
       "      <th>t2</th>\n",
       "      <td>0.89479</td>\n",
       "      <td>1.00000</td>\n",
       "    </tr>\n",
       "  </tbody>\n",
       "</table>\n",
       "</div>"
      ],
      "text/plain": [
       "         T1       T3\n",
       "t1  1.00000  0.89479\n",
       "t2  0.89479  1.00000"
      ]
     },
     "execution_count": 100,
     "metadata": {},
     "output_type": "execute_result"
    }
   ],
   "source": [
    "from sklearn.metrics.pairwise import cosine_similarity\n",
    "cosine_similarity_matrix = cosine_similarity(vector_matrix)\n",
    "create_dataframe(cosine_similarity_matrix,['T1','T3'])"
   ]
  },
  {
   "cell_type": "code",
   "execution_count": 101,
   "metadata": {},
   "outputs": [],
   "source": [
    "data = [T2,T3]"
   ]
  },
  {
   "cell_type": "code",
   "execution_count": 102,
   "metadata": {},
   "outputs": [
    {
     "name": "stderr",
     "output_type": "stream",
     "text": [
      "/srv/conda/envs/notebook/lib/python3.7/site-packages/sklearn/metrics/pairwise.py:56: DeprecationWarning: `np.float` is a deprecated alias for the builtin `float`. To silence this warning, use `float` by itself. Doing this will not modify any behavior and is safe. If you specifically wanted the numpy scalar type, use `np.float64` here.\n",
      "Deprecated in NumPy 1.20; for more details and guidance: https://numpy.org/devdocs/release/1.20.0-notes.html#deprecations\n",
      "  dtype = np.float\n"
     ]
    },
    {
     "data": {
      "text/html": [
       "<div>\n",
       "<style scoped>\n",
       "    .dataframe tbody tr th:only-of-type {\n",
       "        vertical-align: middle;\n",
       "    }\n",
       "\n",
       "    .dataframe tbody tr th {\n",
       "        vertical-align: top;\n",
       "    }\n",
       "\n",
       "    .dataframe thead th {\n",
       "        text-align: right;\n",
       "    }\n",
       "</style>\n",
       "<table border=\"1\" class=\"dataframe\">\n",
       "  <thead>\n",
       "    <tr style=\"text-align: right;\">\n",
       "      <th></th>\n",
       "      <th>T2</th>\n",
       "      <th>T3</th>\n",
       "    </tr>\n",
       "  </thead>\n",
       "  <tbody>\n",
       "    <tr>\n",
       "      <th>t1</th>\n",
       "      <td>1.00000</td>\n",
       "      <td>0.89479</td>\n",
       "    </tr>\n",
       "    <tr>\n",
       "      <th>t2</th>\n",
       "      <td>0.89479</td>\n",
       "      <td>1.00000</td>\n",
       "    </tr>\n",
       "  </tbody>\n",
       "</table>\n",
       "</div>"
      ],
      "text/plain": [
       "         T2       T3\n",
       "t1  1.00000  0.89479\n",
       "t2  0.89479  1.00000"
      ]
     },
     "execution_count": 102,
     "metadata": {},
     "output_type": "execute_result"
    }
   ],
   "source": [
    "from sklearn.metrics.pairwise import cosine_similarity\n",
    "cosine_similarity_matrix = cosine_similarity(vector_matrix)\n",
    "create_dataframe(cosine_similarity_matrix,['T2','T3'])"
   ]
  },
  {
   "cell_type": "code",
   "execution_count": 103,
   "metadata": {},
   "outputs": [
    {
     "data": {
      "text/html": [
       "<div>\n",
       "<style scoped>\n",
       "    .dataframe tbody tr th:only-of-type {\n",
       "        vertical-align: middle;\n",
       "    }\n",
       "\n",
       "    .dataframe tbody tr th {\n",
       "        vertical-align: top;\n",
       "    }\n",
       "\n",
       "    .dataframe thead th {\n",
       "        text-align: right;\n",
       "    }\n",
       "</style>\n",
       "<table border=\"1\" class=\"dataframe\">\n",
       "  <thead>\n",
       "    <tr style=\"text-align: right;\">\n",
       "      <th></th>\n",
       "      <th>103</th>\n",
       "      <th>113</th>\n",
       "      <th>117</th>\n",
       "      <th>127</th>\n",
       "      <th>143</th>\n",
       "      <th>16</th>\n",
       "      <th>160</th>\n",
       "      <th>173</th>\n",
       "      <th>17th</th>\n",
       "      <th>18</th>\n",
       "      <th>...</th>\n",
       "      <th>youth</th>\n",
       "      <th>youthankful</th>\n",
       "      <th>youthful</th>\n",
       "      <th>youve</th>\n",
       "      <th>youyoure</th>\n",
       "      <th>yyes</th>\n",
       "      <th>zat</th>\n",
       "      <th>ze</th>\n",
       "      <th>zee</th>\n",
       "      <th>zhentlemen</th>\n",
       "    </tr>\n",
       "  </thead>\n",
       "  <tbody>\n",
       "    <tr>\n",
       "      <th>t1</th>\n",
       "      <td>0.000177</td>\n",
       "      <td>0.000177</td>\n",
       "      <td>0.000000</td>\n",
       "      <td>0.000177</td>\n",
       "      <td>0.000177</td>\n",
       "      <td>0.000177</td>\n",
       "      <td>0.000177</td>\n",
       "      <td>0.000177</td>\n",
       "      <td>0.000000</td>\n",
       "      <td>0.000000</td>\n",
       "      <td>...</td>\n",
       "      <td>0.001383</td>\n",
       "      <td>0.000177</td>\n",
       "      <td>0.000503</td>\n",
       "      <td>0.011134</td>\n",
       "      <td>0.000353</td>\n",
       "      <td>0.000177</td>\n",
       "      <td>0.000707</td>\n",
       "      <td>0.000353</td>\n",
       "      <td>0.000353</td>\n",
       "      <td>0.000177</td>\n",
       "    </tr>\n",
       "    <tr>\n",
       "      <th>t2</th>\n",
       "      <td>0.000000</td>\n",
       "      <td>0.000000</td>\n",
       "      <td>0.000475</td>\n",
       "      <td>0.000000</td>\n",
       "      <td>0.000000</td>\n",
       "      <td>0.000000</td>\n",
       "      <td>0.000000</td>\n",
       "      <td>0.000000</td>\n",
       "      <td>0.000158</td>\n",
       "      <td>0.000158</td>\n",
       "      <td>...</td>\n",
       "      <td>0.000338</td>\n",
       "      <td>0.000000</td>\n",
       "      <td>0.000113</td>\n",
       "      <td>0.000000</td>\n",
       "      <td>0.000000</td>\n",
       "      <td>0.000000</td>\n",
       "      <td>0.000000</td>\n",
       "      <td>0.000000</td>\n",
       "      <td>0.000000</td>\n",
       "      <td>0.000000</td>\n",
       "    </tr>\n",
       "  </tbody>\n",
       "</table>\n",
       "<p>2 rows × 12276 columns</p>\n",
       "</div>"
      ],
      "text/plain": [
       "         103       113       117       127       143        16       160  \\\n",
       "t1  0.000177  0.000177  0.000000  0.000177  0.000177  0.000177  0.000177   \n",
       "t2  0.000000  0.000000  0.000475  0.000000  0.000000  0.000000  0.000000   \n",
       "\n",
       "         173      17th        18  ...     youth  youthankful  youthful  \\\n",
       "t1  0.000177  0.000000  0.000000  ...  0.001383     0.000177  0.000503   \n",
       "t2  0.000000  0.000158  0.000158  ...  0.000338     0.000000  0.000113   \n",
       "\n",
       "       youve  youyoure      yyes       zat        ze       zee  zhentlemen  \n",
       "t1  0.011134  0.000353  0.000177  0.000707  0.000353  0.000353    0.000177  \n",
       "t2  0.000000  0.000000  0.000000  0.000000  0.000000  0.000000    0.000000  \n",
       "\n",
       "[2 rows x 12276 columns]"
      ]
     },
     "execution_count": 103,
     "metadata": {},
     "output_type": "execute_result"
    }
   ],
   "source": [
    "from sklearn.feature_extraction.text import TfidfVectorizer\n",
    "\n",
    "Tfidf_vect = TfidfVectorizer()\n",
    "vector_matrix = Tfidf_vect.fit_transform(data)\n",
    "\n",
    "tokens = Tfidf_vect.get_feature_names()\n",
    "create_dataframe(vector_matrix.toarray(),tokens)"
   ]
  },
  {
   "cell_type": "markdown",
   "metadata": {},
   "source": [
    "DOING LEMMATIZATION AND EVALUATING THE RESULTS AGAIN"
   ]
  },
  {
   "cell_type": "code",
   "execution_count": 115,
   "metadata": {},
   "outputs": [],
   "source": [
    "from nltk.stem import WordNetLemmatizer\n",
    "from nltk.corpus import wordnet\n",
    "lemmatizer = WordNetLemmatizer()\n",
    "def nltk2wn_tag(nltk_tag):\n",
    "  if nltk_tag.startswith('J'):\n",
    "    return wordnet.ADJ\n",
    "  elif nltk_tag.startswith('V'):\n",
    "    return wordnet.VERB\n",
    "  elif nltk_tag.startswith('N'):\n",
    "    return wordnet.NOUN\n",
    "  elif nltk_tag.startswith('R'):\n",
    "    return wordnet.ADV\n",
    "  else:                    \n",
    "    return None\n",
    "def lemmatize_sentence(sentence):\n",
    "  nltk_tagged = nltk.pos_tag(nltk.word_tokenize(sentence))    \n",
    "  wn_tagged = map(lambda x: (x[0], nltk2wn_tag(x[1])), nltk_tagged)\n",
    "  res_words = []\n",
    "  for word, tag in wn_tagged:\n",
    "    if tag is None:                        \n",
    "      res_words.append(word)\n",
    "    else:\n",
    "      res_words.append(lemmatizer.lemmatize(word, tag))\n",
    "  return \" \".join(res_words)"
   ]
  },
  {
   "cell_type": "code",
   "execution_count": 116,
   "metadata": {},
   "outputs": [],
   "source": [
    "T1 = lemmatize_sentence(T1)"
   ]
  },
  {
   "cell_type": "code",
   "execution_count": 117,
   "metadata": {},
   "outputs": [],
   "source": [
    "T2 = lemmatize_sentence(T2)"
   ]
  },
  {
   "cell_type": "code",
   "execution_count": 118,
   "metadata": {},
   "outputs": [],
   "source": [
    "T3 = lemmatize_sentence(T3)"
   ]
  },
  {
   "cell_type": "code",
   "execution_count": 119,
   "metadata": {},
   "outputs": [
    {
     "data": {
      "text/html": [
       "<div>\n",
       "<style scoped>\n",
       "    .dataframe tbody tr th:only-of-type {\n",
       "        vertical-align: middle;\n",
       "    }\n",
       "\n",
       "    .dataframe tbody tr th {\n",
       "        vertical-align: top;\n",
       "    }\n",
       "\n",
       "    .dataframe thead th {\n",
       "        text-align: right;\n",
       "    }\n",
       "</style>\n",
       "<table border=\"1\" class=\"dataframe\">\n",
       "  <thead>\n",
       "    <tr style=\"text-align: right;\">\n",
       "      <th></th>\n",
       "      <th>10</th>\n",
       "      <th>103</th>\n",
       "      <th>106</th>\n",
       "      <th>113</th>\n",
       "      <th>114</th>\n",
       "      <th>122</th>\n",
       "      <th>127</th>\n",
       "      <th>129</th>\n",
       "      <th>13</th>\n",
       "      <th>137</th>\n",
       "      <th>...</th>\n",
       "      <th>zat</th>\n",
       "      <th>ze</th>\n",
       "      <th>zeal</th>\n",
       "      <th>zee</th>\n",
       "      <th>zeezeezee</th>\n",
       "      <th>zest</th>\n",
       "      <th>zhentlemen</th>\n",
       "      <th>zigzag</th>\n",
       "      <th>zipzap</th>\n",
       "      <th>écorcheur</th>\n",
       "    </tr>\n",
       "  </thead>\n",
       "  <tbody>\n",
       "    <tr>\n",
       "      <th>t1</th>\n",
       "      <td>0.000274</td>\n",
       "      <td>0.000000</td>\n",
       "      <td>0.000137</td>\n",
       "      <td>0.000000</td>\n",
       "      <td>0.000137</td>\n",
       "      <td>0.000137</td>\n",
       "      <td>0.000000</td>\n",
       "      <td>0.000137</td>\n",
       "      <td>0.000137</td>\n",
       "      <td>0.000137</td>\n",
       "      <td>...</td>\n",
       "      <td>0.000000</td>\n",
       "      <td>0.000000</td>\n",
       "      <td>0.000548</td>\n",
       "      <td>0.000000</td>\n",
       "      <td>0.000411</td>\n",
       "      <td>0.000137</td>\n",
       "      <td>0.000000</td>\n",
       "      <td>0.000548</td>\n",
       "      <td>0.000411</td>\n",
       "      <td>0.000137</td>\n",
       "    </tr>\n",
       "    <tr>\n",
       "      <th>t2</th>\n",
       "      <td>0.000000</td>\n",
       "      <td>0.000163</td>\n",
       "      <td>0.000000</td>\n",
       "      <td>0.000163</td>\n",
       "      <td>0.000000</td>\n",
       "      <td>0.000000</td>\n",
       "      <td>0.000163</td>\n",
       "      <td>0.000000</td>\n",
       "      <td>0.000000</td>\n",
       "      <td>0.000000</td>\n",
       "      <td>...</td>\n",
       "      <td>0.000653</td>\n",
       "      <td>0.000326</td>\n",
       "      <td>0.000000</td>\n",
       "      <td>0.000326</td>\n",
       "      <td>0.000000</td>\n",
       "      <td>0.000000</td>\n",
       "      <td>0.000163</td>\n",
       "      <td>0.000000</td>\n",
       "      <td>0.000000</td>\n",
       "      <td>0.000000</td>\n",
       "    </tr>\n",
       "  </tbody>\n",
       "</table>\n",
       "<p>2 rows × 10569 columns</p>\n",
       "</div>"
      ],
      "text/plain": [
       "          10       103       106       113       114       122       127  \\\n",
       "t1  0.000274  0.000000  0.000137  0.000000  0.000137  0.000137  0.000000   \n",
       "t2  0.000000  0.000163  0.000000  0.000163  0.000000  0.000000  0.000163   \n",
       "\n",
       "         129        13       137  ...       zat        ze      zeal       zee  \\\n",
       "t1  0.000137  0.000137  0.000137  ...  0.000000  0.000000  0.000548  0.000000   \n",
       "t2  0.000000  0.000000  0.000000  ...  0.000653  0.000326  0.000000  0.000326   \n",
       "\n",
       "    zeezeezee      zest  zhentlemen    zigzag    zipzap  écorcheur  \n",
       "t1   0.000411  0.000137    0.000000  0.000548  0.000411   0.000137  \n",
       "t2   0.000000  0.000000    0.000163  0.000000  0.000000   0.000000  \n",
       "\n",
       "[2 rows x 10569 columns]"
      ]
     },
     "execution_count": 119,
     "metadata": {},
     "output_type": "execute_result"
    }
   ],
   "source": [
    "data = [T1,T2]\n",
    "\n",
    "from sklearn.feature_extraction.text import TfidfVectorizer\n",
    "\n",
    "Tfidf_vect = TfidfVectorizer()\n",
    "vector_matrix = Tfidf_vect.fit_transform(data)\n",
    "\n",
    "tokens = Tfidf_vect.get_feature_names()\n",
    "create_dataframe(vector_matrix.toarray(),tokens)"
   ]
  },
  {
   "cell_type": "code",
   "execution_count": 120,
   "metadata": {},
   "outputs": [
    {
     "name": "stderr",
     "output_type": "stream",
     "text": [
      "/srv/conda/envs/notebook/lib/python3.7/site-packages/sklearn/metrics/pairwise.py:56: DeprecationWarning: `np.float` is a deprecated alias for the builtin `float`. To silence this warning, use `float` by itself. Doing this will not modify any behavior and is safe. If you specifically wanted the numpy scalar type, use `np.float64` here.\n",
      "Deprecated in NumPy 1.20; for more details and guidance: https://numpy.org/devdocs/release/1.20.0-notes.html#deprecations\n",
      "  dtype = np.float\n"
     ]
    },
    {
     "data": {
      "text/html": [
       "<div>\n",
       "<style scoped>\n",
       "    .dataframe tbody tr th:only-of-type {\n",
       "        vertical-align: middle;\n",
       "    }\n",
       "\n",
       "    .dataframe tbody tr th {\n",
       "        vertical-align: top;\n",
       "    }\n",
       "\n",
       "    .dataframe thead th {\n",
       "        text-align: right;\n",
       "    }\n",
       "</style>\n",
       "<table border=\"1\" class=\"dataframe\">\n",
       "  <thead>\n",
       "    <tr style=\"text-align: right;\">\n",
       "      <th></th>\n",
       "      <th>d1</th>\n",
       "      <th>d2</th>\n",
       "    </tr>\n",
       "  </thead>\n",
       "  <tbody>\n",
       "    <tr>\n",
       "      <th>t1</th>\n",
       "      <td>1.000000</td>\n",
       "      <td>0.926471</td>\n",
       "    </tr>\n",
       "    <tr>\n",
       "      <th>t2</th>\n",
       "      <td>0.926471</td>\n",
       "      <td>1.000000</td>\n",
       "    </tr>\n",
       "  </tbody>\n",
       "</table>\n",
       "</div>"
      ],
      "text/plain": [
       "          d1        d2\n",
       "t1  1.000000  0.926471\n",
       "t2  0.926471  1.000000"
      ]
     },
     "execution_count": 120,
     "metadata": {},
     "output_type": "execute_result"
    }
   ],
   "source": [
    "from sklearn.metrics.pairwise import cosine_similarity\n",
    "cosine_similarity_matrix = cosine_similarity(vector_matrix)\n",
    "create_dataframe(cosine_similarity_matrix,['d1','d2'])"
   ]
  },
  {
   "cell_type": "code",
   "execution_count": 121,
   "metadata": {},
   "outputs": [
    {
     "data": {
      "text/html": [
       "<div>\n",
       "<style scoped>\n",
       "    .dataframe tbody tr th:only-of-type {\n",
       "        vertical-align: middle;\n",
       "    }\n",
       "\n",
       "    .dataframe tbody tr th {\n",
       "        vertical-align: top;\n",
       "    }\n",
       "\n",
       "    .dataframe thead th {\n",
       "        text-align: right;\n",
       "    }\n",
       "</style>\n",
       "<table border=\"1\" class=\"dataframe\">\n",
       "  <thead>\n",
       "    <tr style=\"text-align: right;\">\n",
       "      <th></th>\n",
       "      <th>10</th>\n",
       "      <th>106</th>\n",
       "      <th>114</th>\n",
       "      <th>117</th>\n",
       "      <th>122</th>\n",
       "      <th>129</th>\n",
       "      <th>13</th>\n",
       "      <th>137</th>\n",
       "      <th>144</th>\n",
       "      <th>154</th>\n",
       "      <th>...</th>\n",
       "      <th>yourselves</th>\n",
       "      <th>yousomebody</th>\n",
       "      <th>youth</th>\n",
       "      <th>youthful</th>\n",
       "      <th>zeal</th>\n",
       "      <th>zeezeezee</th>\n",
       "      <th>zest</th>\n",
       "      <th>zigzag</th>\n",
       "      <th>zipzap</th>\n",
       "      <th>écorcheur</th>\n",
       "    </tr>\n",
       "  </thead>\n",
       "  <tbody>\n",
       "    <tr>\n",
       "      <th>t1</th>\n",
       "      <td>0.000274</td>\n",
       "      <td>0.000137</td>\n",
       "      <td>0.000137</td>\n",
       "      <td>0.000000</td>\n",
       "      <td>0.000137</td>\n",
       "      <td>0.000137</td>\n",
       "      <td>0.000137</td>\n",
       "      <td>0.000137</td>\n",
       "      <td>0.000137</td>\n",
       "      <td>0.000137</td>\n",
       "      <td>...</td>\n",
       "      <td>0.000585</td>\n",
       "      <td>0.000000</td>\n",
       "      <td>0.000000</td>\n",
       "      <td>0.000000</td>\n",
       "      <td>0.000549</td>\n",
       "      <td>0.000411</td>\n",
       "      <td>0.000137</td>\n",
       "      <td>0.000549</td>\n",
       "      <td>0.000411</td>\n",
       "      <td>0.000137</td>\n",
       "    </tr>\n",
       "    <tr>\n",
       "      <th>t2</th>\n",
       "      <td>0.000000</td>\n",
       "      <td>0.000000</td>\n",
       "      <td>0.000000</td>\n",
       "      <td>0.000427</td>\n",
       "      <td>0.000000</td>\n",
       "      <td>0.000000</td>\n",
       "      <td>0.000000</td>\n",
       "      <td>0.000000</td>\n",
       "      <td>0.000000</td>\n",
       "      <td>0.000000</td>\n",
       "      <td>...</td>\n",
       "      <td>0.000101</td>\n",
       "      <td>0.000142</td>\n",
       "      <td>0.000427</td>\n",
       "      <td>0.000142</td>\n",
       "      <td>0.000000</td>\n",
       "      <td>0.000000</td>\n",
       "      <td>0.000000</td>\n",
       "      <td>0.000000</td>\n",
       "      <td>0.000000</td>\n",
       "      <td>0.000000</td>\n",
       "    </tr>\n",
       "  </tbody>\n",
       "</table>\n",
       "<p>2 rows × 9740 columns</p>\n",
       "</div>"
      ],
      "text/plain": [
       "          10       106       114       117       122       129        13  \\\n",
       "t1  0.000274  0.000137  0.000137  0.000000  0.000137  0.000137  0.000137   \n",
       "t2  0.000000  0.000000  0.000000  0.000427  0.000000  0.000000  0.000000   \n",
       "\n",
       "         137       144       154  ...  yourselves  yousomebody     youth  \\\n",
       "t1  0.000137  0.000137  0.000137  ...    0.000585     0.000000  0.000000   \n",
       "t2  0.000000  0.000000  0.000000  ...    0.000101     0.000142  0.000427   \n",
       "\n",
       "    youthful      zeal  zeezeezee      zest    zigzag    zipzap  écorcheur  \n",
       "t1  0.000000  0.000549   0.000411  0.000137  0.000549  0.000411   0.000137  \n",
       "t2  0.000142  0.000000   0.000000  0.000000  0.000000  0.000000   0.000000  \n",
       "\n",
       "[2 rows x 9740 columns]"
      ]
     },
     "execution_count": 121,
     "metadata": {},
     "output_type": "execute_result"
    }
   ],
   "source": [
    "data = [T1,T3]\n",
    "\n",
    "from sklearn.feature_extraction.text import TfidfVectorizer\n",
    "\n",
    "Tfidf_vect = TfidfVectorizer()\n",
    "vector_matrix = Tfidf_vect.fit_transform(data)\n",
    "\n",
    "tokens = Tfidf_vect.get_feature_names()\n",
    "create_dataframe(vector_matrix.toarray(),tokens)"
   ]
  },
  {
   "cell_type": "code",
   "execution_count": 122,
   "metadata": {},
   "outputs": [
    {
     "name": "stderr",
     "output_type": "stream",
     "text": [
      "/srv/conda/envs/notebook/lib/python3.7/site-packages/sklearn/metrics/pairwise.py:56: DeprecationWarning: `np.float` is a deprecated alias for the builtin `float`. To silence this warning, use `float` by itself. Doing this will not modify any behavior and is safe. If you specifically wanted the numpy scalar type, use `np.float64` here.\n",
      "Deprecated in NumPy 1.20; for more details and guidance: https://numpy.org/devdocs/release/1.20.0-notes.html#deprecations\n",
      "  dtype = np.float\n"
     ]
    },
    {
     "data": {
      "text/html": [
       "<div>\n",
       "<style scoped>\n",
       "    .dataframe tbody tr th:only-of-type {\n",
       "        vertical-align: middle;\n",
       "    }\n",
       "\n",
       "    .dataframe tbody tr th {\n",
       "        vertical-align: top;\n",
       "    }\n",
       "\n",
       "    .dataframe thead th {\n",
       "        text-align: right;\n",
       "    }\n",
       "</style>\n",
       "<table border=\"1\" class=\"dataframe\">\n",
       "  <thead>\n",
       "    <tr style=\"text-align: right;\">\n",
       "      <th></th>\n",
       "      <th>d1</th>\n",
       "      <th>d3</th>\n",
       "    </tr>\n",
       "  </thead>\n",
       "  <tbody>\n",
       "    <tr>\n",
       "      <th>t1</th>\n",
       "      <td>1.000000</td>\n",
       "      <td>0.908356</td>\n",
       "    </tr>\n",
       "    <tr>\n",
       "      <th>t2</th>\n",
       "      <td>0.908356</td>\n",
       "      <td>1.000000</td>\n",
       "    </tr>\n",
       "  </tbody>\n",
       "</table>\n",
       "</div>"
      ],
      "text/plain": [
       "          d1        d3\n",
       "t1  1.000000  0.908356\n",
       "t2  0.908356  1.000000"
      ]
     },
     "execution_count": 122,
     "metadata": {},
     "output_type": "execute_result"
    }
   ],
   "source": [
    "from sklearn.metrics.pairwise import cosine_similarity\n",
    "cosine_similarity_matrix = cosine_similarity(vector_matrix)\n",
    "create_dataframe(cosine_similarity_matrix,['d1','d3'])"
   ]
  },
  {
   "cell_type": "code",
   "execution_count": 123,
   "metadata": {},
   "outputs": [
    {
     "data": {
      "text/html": [
       "<div>\n",
       "<style scoped>\n",
       "    .dataframe tbody tr th:only-of-type {\n",
       "        vertical-align: middle;\n",
       "    }\n",
       "\n",
       "    .dataframe tbody tr th {\n",
       "        vertical-align: top;\n",
       "    }\n",
       "\n",
       "    .dataframe thead th {\n",
       "        text-align: right;\n",
       "    }\n",
       "</style>\n",
       "<table border=\"1\" class=\"dataframe\">\n",
       "  <thead>\n",
       "    <tr style=\"text-align: right;\">\n",
       "      <th></th>\n",
       "      <th>103</th>\n",
       "      <th>113</th>\n",
       "      <th>117</th>\n",
       "      <th>127</th>\n",
       "      <th>143</th>\n",
       "      <th>16</th>\n",
       "      <th>160</th>\n",
       "      <th>173</th>\n",
       "      <th>17th</th>\n",
       "      <th>18</th>\n",
       "      <th>...</th>\n",
       "      <th>youth</th>\n",
       "      <th>youthankful</th>\n",
       "      <th>youthful</th>\n",
       "      <th>youve</th>\n",
       "      <th>youyoure</th>\n",
       "      <th>yyes</th>\n",
       "      <th>zat</th>\n",
       "      <th>ze</th>\n",
       "      <th>zee</th>\n",
       "      <th>zhentlemen</th>\n",
       "    </tr>\n",
       "  </thead>\n",
       "  <tbody>\n",
       "    <tr>\n",
       "      <th>t1</th>\n",
       "      <td>0.000163</td>\n",
       "      <td>0.000163</td>\n",
       "      <td>0.000000</td>\n",
       "      <td>0.000163</td>\n",
       "      <td>0.000163</td>\n",
       "      <td>0.000163</td>\n",
       "      <td>0.000163</td>\n",
       "      <td>0.000163</td>\n",
       "      <td>0.000000</td>\n",
       "      <td>0.000000</td>\n",
       "      <td>...</td>\n",
       "      <td>0.001277</td>\n",
       "      <td>0.000163</td>\n",
       "      <td>0.000464</td>\n",
       "      <td>0.010277</td>\n",
       "      <td>0.000326</td>\n",
       "      <td>0.000163</td>\n",
       "      <td>0.000653</td>\n",
       "      <td>0.000326</td>\n",
       "      <td>0.000326</td>\n",
       "      <td>0.000163</td>\n",
       "    </tr>\n",
       "    <tr>\n",
       "      <th>t2</th>\n",
       "      <td>0.000000</td>\n",
       "      <td>0.000000</td>\n",
       "      <td>0.000427</td>\n",
       "      <td>0.000000</td>\n",
       "      <td>0.000000</td>\n",
       "      <td>0.000000</td>\n",
       "      <td>0.000000</td>\n",
       "      <td>0.000000</td>\n",
       "      <td>0.000142</td>\n",
       "      <td>0.000142</td>\n",
       "      <td>...</td>\n",
       "      <td>0.000304</td>\n",
       "      <td>0.000000</td>\n",
       "      <td>0.000101</td>\n",
       "      <td>0.000000</td>\n",
       "      <td>0.000000</td>\n",
       "      <td>0.000000</td>\n",
       "      <td>0.000000</td>\n",
       "      <td>0.000000</td>\n",
       "      <td>0.000000</td>\n",
       "      <td>0.000000</td>\n",
       "    </tr>\n",
       "  </tbody>\n",
       "</table>\n",
       "<p>2 rows × 9922 columns</p>\n",
       "</div>"
      ],
      "text/plain": [
       "         103       113       117       127       143        16       160  \\\n",
       "t1  0.000163  0.000163  0.000000  0.000163  0.000163  0.000163  0.000163   \n",
       "t2  0.000000  0.000000  0.000427  0.000000  0.000000  0.000000  0.000000   \n",
       "\n",
       "         173      17th        18  ...     youth  youthankful  youthful  \\\n",
       "t1  0.000163  0.000000  0.000000  ...  0.001277     0.000163  0.000464   \n",
       "t2  0.000000  0.000142  0.000142  ...  0.000304     0.000000  0.000101   \n",
       "\n",
       "       youve  youyoure      yyes       zat        ze       zee  zhentlemen  \n",
       "t1  0.010277  0.000326  0.000163  0.000653  0.000326  0.000326    0.000163  \n",
       "t2  0.000000  0.000000  0.000000  0.000000  0.000000  0.000000    0.000000  \n",
       "\n",
       "[2 rows x 9922 columns]"
      ]
     },
     "execution_count": 123,
     "metadata": {},
     "output_type": "execute_result"
    }
   ],
   "source": [
    "data = [T2,T3]\n",
    "\n",
    "from sklearn.feature_extraction.text import TfidfVectorizer\n",
    "\n",
    "Tfidf_vect = TfidfVectorizer()\n",
    "vector_matrix = Tfidf_vect.fit_transform(data)\n",
    "\n",
    "tokens = Tfidf_vect.get_feature_names()\n",
    "create_dataframe(vector_matrix.toarray(),tokens)"
   ]
  },
  {
   "cell_type": "code",
   "execution_count": 124,
   "metadata": {},
   "outputs": [
    {
     "name": "stderr",
     "output_type": "stream",
     "text": [
      "/srv/conda/envs/notebook/lib/python3.7/site-packages/sklearn/metrics/pairwise.py:56: DeprecationWarning: `np.float` is a deprecated alias for the builtin `float`. To silence this warning, use `float` by itself. Doing this will not modify any behavior and is safe. If you specifically wanted the numpy scalar type, use `np.float64` here.\n",
      "Deprecated in NumPy 1.20; for more details and guidance: https://numpy.org/devdocs/release/1.20.0-notes.html#deprecations\n",
      "  dtype = np.float\n"
     ]
    },
    {
     "data": {
      "text/html": [
       "<div>\n",
       "<style scoped>\n",
       "    .dataframe tbody tr th:only-of-type {\n",
       "        vertical-align: middle;\n",
       "    }\n",
       "\n",
       "    .dataframe tbody tr th {\n",
       "        vertical-align: top;\n",
       "    }\n",
       "\n",
       "    .dataframe thead th {\n",
       "        text-align: right;\n",
       "    }\n",
       "</style>\n",
       "<table border=\"1\" class=\"dataframe\">\n",
       "  <thead>\n",
       "    <tr style=\"text-align: right;\">\n",
       "      <th></th>\n",
       "      <th>d2</th>\n",
       "      <th>d3</th>\n",
       "    </tr>\n",
       "  </thead>\n",
       "  <tbody>\n",
       "    <tr>\n",
       "      <th>t1</th>\n",
       "      <td>1.000000</td>\n",
       "      <td>0.966997</td>\n",
       "    </tr>\n",
       "    <tr>\n",
       "      <th>t2</th>\n",
       "      <td>0.966997</td>\n",
       "      <td>1.000000</td>\n",
       "    </tr>\n",
       "  </tbody>\n",
       "</table>\n",
       "</div>"
      ],
      "text/plain": [
       "          d2        d3\n",
       "t1  1.000000  0.966997\n",
       "t2  0.966997  1.000000"
      ]
     },
     "execution_count": 124,
     "metadata": {},
     "output_type": "execute_result"
    }
   ],
   "source": [
    "from sklearn.metrics.pairwise import cosine_similarity\n",
    "cosine_similarity_matrix = cosine_similarity(vector_matrix)\n",
    "create_dataframe(cosine_similarity_matrix,['d2','d3'])"
   ]
  },
  {
   "cell_type": "code",
   "execution_count": null,
   "metadata": {},
   "outputs": [],
   "source": []
  }
 ],
 "metadata": {
  "kernelspec": {
   "display_name": "Python 3",
   "language": "python",
   "name": "python3"
  },
  "language_info": {
   "codemirror_mode": {
    "name": "ipython",
    "version": 3
   },
   "file_extension": ".py",
   "mimetype": "text/x-python",
   "name": "python",
   "nbconvert_exporter": "python",
   "pygments_lexer": "ipython3",
   "version": "3.8.3"
  }
 },
 "nbformat": 4,
 "nbformat_minor": 5
}
